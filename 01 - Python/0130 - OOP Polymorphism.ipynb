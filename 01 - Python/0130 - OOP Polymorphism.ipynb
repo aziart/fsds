{
 "cells": [
  {
   "cell_type": "markdown",
   "id": "90398fcd",
   "metadata": {},
   "source": [
    "<b>Polymorphism concept:</b>\n",
    "one single object (or one single entity), but if its behaviour changes according to situation (environment)"
   ]
  },
  {
   "cell_type": "code",
   "execution_count": 1,
   "id": "518497f3",
   "metadata": {},
   "outputs": [],
   "source": [
    "def exfunc(a,b):\n",
    "    return a + b"
   ]
  },
  {
   "cell_type": "code",
   "execution_count": 2,
   "id": "0c3ef977",
   "metadata": {},
   "outputs": [
    {
     "data": {
      "text/plain": [
       "7"
      ]
     },
     "execution_count": 2,
     "metadata": {},
     "output_type": "execute_result"
    }
   ],
   "source": [
    "exfunc(3,4)"
   ]
  },
  {
   "cell_type": "code",
   "execution_count": 3,
   "id": "e0847345",
   "metadata": {},
   "outputs": [
    {
     "data": {
      "text/plain": [
       "'testuser'"
      ]
     },
     "execution_count": 3,
     "metadata": {},
     "output_type": "execute_result"
    }
   ],
   "source": [
    "exfunc('test', 'user')"
   ]
  },
  {
   "cell_type": "code",
   "execution_count": 4,
   "id": "07f6b92f",
   "metadata": {},
   "outputs": [],
   "source": [
    "class insta:\n",
    "    \n",
    "    def share_stories(self):\n",
    "        print('will share my insta story')\n",
    "\n",
    "        \n",
    "class facebook:\n",
    "    \n",
    "    def share_stories(self):\n",
    "        print('will share my facebook story')"
   ]
  },
  {
   "cell_type": "code",
   "execution_count": 5,
   "id": "1b63c6f4",
   "metadata": {},
   "outputs": [],
   "source": [
    "def share(app):\n",
    "    app.share_stories()"
   ]
  },
  {
   "cell_type": "code",
   "execution_count": 6,
   "id": "54abf043",
   "metadata": {},
   "outputs": [],
   "source": [
    "i = insta()\n",
    "f = facebook()"
   ]
  },
  {
   "cell_type": "code",
   "execution_count": 7,
   "id": "dc2bbe4b",
   "metadata": {},
   "outputs": [
    {
     "name": "stdout",
     "output_type": "stream",
     "text": [
      "will share my insta story\n"
     ]
    }
   ],
   "source": [
    "share(i)"
   ]
  },
  {
   "cell_type": "code",
   "execution_count": 8,
   "id": "38f1a10c",
   "metadata": {},
   "outputs": [
    {
     "name": "stdout",
     "output_type": "stream",
     "text": [
      "will share my facebook story\n"
     ]
    }
   ],
   "source": [
    "share(f)"
   ]
  },
  {
   "cell_type": "code",
   "execution_count": 9,
   "id": "5bad462f",
   "metadata": {},
   "outputs": [],
   "source": [
    "class social_net:\n",
    "    \n",
    "    def share_stories(self):\n",
    "        print('shares a story')\n",
    "        \n",
    "    def upload_pic(self):\n",
    "        print('uploads a picture')\n",
    "        \n",
    "\n",
    "class facebook:\n",
    "    \n",
    "    def share_stories(self):\n",
    "        print('shares FACEBOOK story')\n",
    "    \n",
    "\n",
    "class insta:\n",
    "    \n",
    "    def share_stories(self):\n",
    "        print('shares INSTAGRAM story')"
   ]
  },
  {
   "cell_type": "code",
   "execution_count": 10,
   "id": "dea28819",
   "metadata": {},
   "outputs": [],
   "source": [
    "f = facebook()\n",
    "i = insta()"
   ]
  },
  {
   "cell_type": "code",
   "execution_count": 11,
   "id": "6f869627",
   "metadata": {},
   "outputs": [
    {
     "name": "stdout",
     "output_type": "stream",
     "text": [
      "shares FACEBOOK story\n",
      "shares INSTAGRAM story\n"
     ]
    }
   ],
   "source": [
    "f.share_stories()\n",
    "i.share_stories()"
   ]
  },
  {
   "cell_type": "code",
   "execution_count": 12,
   "id": "854bf05f",
   "metadata": {},
   "outputs": [],
   "source": [
    "class ExClass(Exception):\n",
    "    def __init__(self, msg):\n",
    "        self.msg = msg"
   ]
  },
  {
   "cell_type": "code",
   "execution_count": 13,
   "id": "de82ca86",
   "metadata": {},
   "outputs": [
    {
     "name": "stdout",
     "output_type": "stream",
     "text": [
      "this is my own exception class\n"
     ]
    }
   ],
   "source": [
    "try:\n",
    "    raise(ExClass('this is my own exception class'))\n",
    "except ExClass as e:\n",
    "    print(e)"
   ]
  },
  {
   "cell_type": "code",
   "execution_count": 14,
   "id": "233e3584",
   "metadata": {},
   "outputs": [
    {
     "name": "stdout",
     "output_type": "stream",
     "text": [
      "Batch: 2\n",
      "Course: FDSD\n"
     ]
    }
   ],
   "source": [
    "# Parent Class 1\n",
    "class BatchNumber:\n",
    "    \n",
    "    batchnumber = ''\n",
    "        \n",
    "    def batch(self):\n",
    "        print(self.batchnumber)\n",
    "        \n",
    "        \n",
    "# Parent Class 2\n",
    "class CourseName:\n",
    "    \n",
    "    cname = ''\n",
    "    \n",
    "    def course(self):\n",
    "        print(self.cname)\n",
    "        \n",
    "        \n",
    "# Child Class\n",
    "class Student(BatchNumber, CourseName):\n",
    "    \n",
    "    def __init__(self, batch, course):\n",
    "        'DUMMY INSTANCE VARIABLES'\n",
    "        self.batch = batch\n",
    "        self.course = course\n",
    "    \n",
    "    def deets(self):\n",
    "        print('Batch: {}'.format(self.batchnumber))\n",
    "        print('Course: {}'.format(self.cname))\n",
    "        \n",
    "        \n",
    "# Child class object creation\n",
    "s1 = Student('2','FDSD')\n",
    "s1.batchnumber = s1.batch\n",
    "s1.cname = s1.course\n",
    "s1.deets()"
   ]
  }
 ],
 "metadata": {
  "kernelspec": {
   "display_name": "Python 3",
   "language": "python",
   "name": "python3"
  },
  "language_info": {
   "codemirror_mode": {
    "name": "ipython",
    "version": 3
   },
   "file_extension": ".py",
   "mimetype": "text/x-python",
   "name": "python",
   "nbconvert_exporter": "python",
   "pygments_lexer": "ipython3",
   "version": "3.8.10"
  }
 },
 "nbformat": 4,
 "nbformat_minor": 5
}
