{
 "cells": [
  {
   "cell_type": "code",
   "execution_count": 1,
   "id": "6d72cd81",
   "metadata": {},
   "outputs": [],
   "source": [
    "class Car:\n",
    "    \n",
    "    def __init__(self, body_type, engine, fuel_type):\n",
    "        self.body_type = body_type\n",
    "        self.engine = engine\n",
    "        self.fuel_type = fuel_type\n",
    "        \n",
    "    def test(self):\n",
    "        print('This is a first method in my Car class')"
   ]
  },
  {
   "cell_type": "code",
   "execution_count": 2,
   "id": "e2af6e24",
   "metadata": {},
   "outputs": [],
   "source": [
    "fortuner = Car('suv', 'bs4', 'petrol')"
   ]
  },
  {
   "cell_type": "code",
   "execution_count": 3,
   "id": "241d841d",
   "metadata": {},
   "outputs": [],
   "source": [
    "nexon = Car('suv', 'abc', 'petrol')"
   ]
  },
  {
   "cell_type": "code",
   "execution_count": 4,
   "id": "089c5d45",
   "metadata": {},
   "outputs": [
    {
     "data": {
      "text/plain": [
       "__main__.Car"
      ]
     },
     "execution_count": 4,
     "metadata": {},
     "output_type": "execute_result"
    }
   ],
   "source": [
    "type(nexon)"
   ]
  },
  {
   "cell_type": "code",
   "execution_count": 5,
   "id": "c9bd105a",
   "metadata": {},
   "outputs": [
    {
     "data": {
      "text/plain": [
       "'abc'"
      ]
     },
     "execution_count": 5,
     "metadata": {},
     "output_type": "execute_result"
    }
   ],
   "source": [
    "nexon.engine"
   ]
  },
  {
   "cell_type": "code",
   "execution_count": 6,
   "id": "07e56a7e",
   "metadata": {},
   "outputs": [
    {
     "name": "stdout",
     "output_type": "stream",
     "text": [
      "This is a first method in my Car class\n"
     ]
    }
   ],
   "source": [
    "nexon.test()"
   ]
  },
  {
   "cell_type": "code",
   "execution_count": 7,
   "id": "80670b62",
   "metadata": {},
   "outputs": [
    {
     "data": {
      "text/plain": [
       "{'body_type': 'suv', 'engine': 'abc', 'fuel_type': 'petrol'}"
      ]
     },
     "execution_count": 7,
     "metadata": {},
     "output_type": "execute_result"
    }
   ],
   "source": [
    "nexon.__dict__"
   ]
  },
  {
   "cell_type": "code",
   "execution_count": 8,
   "id": "a89fc544",
   "metadata": {},
   "outputs": [
    {
     "data": {
      "text/plain": [
       "mappingproxy({'__module__': '__main__',\n",
       "              '__init__': <function __main__.Car.__init__(self, body_type, engine, fuel_type)>,\n",
       "              'test': <function __main__.Car.test(self)>,\n",
       "              '__dict__': <attribute '__dict__' of 'Car' objects>,\n",
       "              '__weakref__': <attribute '__weakref__' of 'Car' objects>,\n",
       "              '__doc__': None})"
      ]
     },
     "execution_count": 8,
     "metadata": {},
     "output_type": "execute_result"
    }
   ],
   "source": [
    "Car.__dict__"
   ]
  },
  {
   "cell_type": "markdown",
   "id": "6a392171",
   "metadata": {},
   "source": [
    "It is ok not to provide class with \\_\\_init\\_\\_ method"
   ]
  },
  {
   "cell_type": "code",
   "execution_count": 9,
   "id": "8d1fce3c",
   "metadata": {},
   "outputs": [],
   "source": [
    "class Car:\n",
    "        \n",
    "    def test(self):\n",
    "        print('This is a first method in my Car class')"
   ]
  },
  {
   "cell_type": "code",
   "execution_count": 10,
   "id": "8eb3132b",
   "metadata": {},
   "outputs": [],
   "source": [
    "x = Car()"
   ]
  },
  {
   "cell_type": "code",
   "execution_count": 11,
   "id": "88018ca8",
   "metadata": {},
   "outputs": [
    {
     "data": {
      "text/plain": [
       "__main__.Car"
      ]
     },
     "execution_count": 11,
     "metadata": {},
     "output_type": "execute_result"
    }
   ],
   "source": [
    "type(x)"
   ]
  },
  {
   "cell_type": "code",
   "execution_count": 12,
   "id": "f4f46a8e",
   "metadata": {},
   "outputs": [
    {
     "name": "stdout",
     "output_type": "stream",
     "text": [
      "This is a first method in my Car class\n"
     ]
    }
   ],
   "source": [
    "x.test()"
   ]
  },
  {
   "cell_type": "code",
   "execution_count": 13,
   "id": "2909f15b",
   "metadata": {},
   "outputs": [
    {
     "name": "stdout",
     "output_type": "stream",
     "text": [
      "This is a first method in my Car class VAR 1 VAR 2\n"
     ]
    }
   ],
   "source": [
    "class Car:\n",
    "        \n",
    "    def test(self, var_1, var_2):\n",
    "        print('This is a first method in my Car class {} {}'.format(var_1, var_2))\n",
    "\n",
    "x = Car()\n",
    "x.test('VAR 1', 'VAR 2')"
   ]
  },
  {
   "cell_type": "code",
   "execution_count": 14,
   "id": "5f0790c9",
   "metadata": {},
   "outputs": [],
   "source": [
    "class ListParser:\n",
    "    \n",
    "    def parser(self, a):\n",
    "        if type(a) == list:\n",
    "            for i in a:\n",
    "                print(i)\n",
    "                \n",
    "    def reverser(self, z):\n",
    "        if type(z) == list:\n",
    "            return z[::-1]"
   ]
  },
  {
   "cell_type": "code",
   "execution_count": 15,
   "id": "09b7073c",
   "metadata": {},
   "outputs": [
    {
     "name": "stdout",
     "output_type": "stream",
     "text": [
      "1\n",
      "2\n",
      "3\n",
      "4\n"
     ]
    }
   ],
   "source": [
    "c = ListParser()\n",
    "c.parser([1,2,3,4])"
   ]
  },
  {
   "cell_type": "code",
   "execution_count": 16,
   "id": "02a0c7ed",
   "metadata": {
    "scrolled": true
   },
   "outputs": [
    {
     "data": {
      "text/plain": [
       "[4, 3, 2, 1]"
      ]
     },
     "execution_count": 16,
     "metadata": {},
     "output_type": "execute_result"
    }
   ],
   "source": [
    "c.reverser([1,2,3,4])"
   ]
  },
  {
   "cell_type": "code",
   "execution_count": 17,
   "id": "68bd5a24",
   "metadata": {},
   "outputs": [],
   "source": [
    "class ListParser:\n",
    "    \n",
    "    def __init__(self, l):\n",
    "        self.l = l\n",
    "    \n",
    "    def parser(self):\n",
    "        if type(self.l) == list:\n",
    "            for i in self.l:\n",
    "                print(i)\n",
    "                \n",
    "    def reverser(self):\n",
    "        if type(self.l) == list:\n",
    "            return self.l[::-1]"
   ]
  },
  {
   "cell_type": "code",
   "execution_count": 18,
   "id": "97739f41",
   "metadata": {},
   "outputs": [
    {
     "name": "stdout",
     "output_type": "stream",
     "text": [
      "1\n",
      "2\n",
      "3\n",
      "4\n",
      "None\n",
      "[4, 3, 2, 1]\n"
     ]
    }
   ],
   "source": [
    "c = ListParser([1,2,3,4])\n",
    "print(c.parser())\n",
    "print(c.reverser())"
   ]
  },
  {
   "cell_type": "markdown",
   "id": "9b1a21bf",
   "metadata": {},
   "source": [
    "## Task:\n",
    "Create a class for dictionary parsing. Provide a class with the following functions:\n",
    "- write a function to print all the keys;\n",
    "- write a function to print all the values;\n",
    "- write a function to throw an exception in case of input is not a dictionary\n",
    "- write a function to take user input and then parse a key and value out of a dictionary\n",
    "- write a function to insert new key-value pair into a dictionary"
   ]
  },
  {
   "cell_type": "code",
   "execution_count": 19,
   "id": "d97f1bc1",
   "metadata": {
    "scrolled": false
   },
   "outputs": [],
   "source": [
    "class DictParser:\n",
    "    \n",
    "    def __init__(self, mdict):\n",
    "        self.mdict = mdict\n",
    "        if type(self.mdict) != dict:\n",
    "            print('Provided instance is not a dictionary')\n",
    "    \n",
    "    def get_keys(self):\n",
    "        '''PRINTS ALL THE KEYS OF A DICTIONARY'''\n",
    "        print(self.mdict.keys())\n",
    "        \n",
    "    def get_values(self):\n",
    "        '''PRINTS ALL THE VALUES OF A DICTIONARY'''\n",
    "        print(self.mdict.values())\n",
    "    \n",
    "    def not_dict(self):\n",
    "        '''RAISES EXCEPTION IF PROVIDED INSTANCE IS NOT A DICTIONARY'''\n",
    "        if type(self.mdict) != dict:\n",
    "            raise Exception(self.mdict, 'Provided instance is not a dictionary.')\n",
    "        return 'Provided instance is a dictionary'\n",
    "    \n",
    "    def user_input(self):\n",
    "        self.mdict = eval(input('Input a dictionary: '))\n",
    "        print(self.mdict, type(self.mdict))\n",
    "        print(self.get_keys())\n",
    "        print(self.get_values())\n",
    "    \n",
    "    def insert(self, ukey = None, uvalue = None):\n",
    "        self.ukey = input('Enter a key: ')\n",
    "        self.uvalue = input('Enter a value: ')\n",
    "        self.mdict[str(self.ukey)] = self.uvalue"
   ]
  },
  {
   "cell_type": "code",
   "execution_count": 20,
   "id": "49bb9560",
   "metadata": {},
   "outputs": [],
   "source": [
    "a = DictParser({'a': 1, 'b':2})"
   ]
  },
  {
   "cell_type": "code",
   "execution_count": 21,
   "id": "af9830ec",
   "metadata": {},
   "outputs": [
    {
     "name": "stdout",
     "output_type": "stream",
     "text": [
      "dict_keys(['a', 'b'])\n"
     ]
    }
   ],
   "source": [
    "a.get_keys()"
   ]
  },
  {
   "cell_type": "code",
   "execution_count": 22,
   "id": "1541993a",
   "metadata": {},
   "outputs": [
    {
     "name": "stdout",
     "output_type": "stream",
     "text": [
      "dict_values([1, 2])\n"
     ]
    }
   ],
   "source": [
    "a.get_values()"
   ]
  }
 ],
 "metadata": {
  "kernelspec": {
   "display_name": "Python 3",
   "language": "python",
   "name": "python3"
  },
  "language_info": {
   "codemirror_mode": {
    "name": "ipython",
    "version": 3
   },
   "file_extension": ".py",
   "mimetype": "text/x-python",
   "name": "python",
   "nbconvert_exporter": "python",
   "pygments_lexer": "ipython3",
   "version": "3.8.10"
  }
 },
 "nbformat": 4,
 "nbformat_minor": 5
}
