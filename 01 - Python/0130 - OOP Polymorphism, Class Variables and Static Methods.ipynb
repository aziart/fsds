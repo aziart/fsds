{
 "cells": [
  {
   "cell_type": "markdown",
   "id": "90398fcd",
   "metadata": {},
   "source": [
    "<b>Polymorphism concept:</b>\n",
    "one single object (or one single entity), but if its behaviour changes according to situation (environment)"
   ]
  },
  {
   "cell_type": "code",
   "execution_count": 1,
   "id": "518497f3",
   "metadata": {},
   "outputs": [],
   "source": [
    "def exfunc(a,b):\n",
    "    return a + b"
   ]
  },
  {
   "cell_type": "code",
   "execution_count": 2,
   "id": "0c3ef977",
   "metadata": {},
   "outputs": [
    {
     "data": {
      "text/plain": [
       "7"
      ]
     },
     "execution_count": 2,
     "metadata": {},
     "output_type": "execute_result"
    }
   ],
   "source": [
    "exfunc(3,4)"
   ]
  },
  {
   "cell_type": "code",
   "execution_count": 3,
   "id": "e0847345",
   "metadata": {},
   "outputs": [
    {
     "data": {
      "text/plain": [
       "'testuser'"
      ]
     },
     "execution_count": 3,
     "metadata": {},
     "output_type": "execute_result"
    }
   ],
   "source": [
    "exfunc('test', 'user')"
   ]
  },
  {
   "cell_type": "code",
   "execution_count": 4,
   "id": "07f6b92f",
   "metadata": {},
   "outputs": [],
   "source": [
    "class insta:\n",
    "    \n",
    "    def share_stories(self):\n",
    "        print('will share my insta story')\n",
    "\n",
    "        \n",
    "class facebook:\n",
    "    \n",
    "    def share_stories(self):\n",
    "        print('will share my facebook story')"
   ]
  },
  {
   "cell_type": "code",
   "execution_count": 5,
   "id": "1b63c6f4",
   "metadata": {},
   "outputs": [],
   "source": [
    "def share(app):\n",
    "    app.share_stories()"
   ]
  },
  {
   "cell_type": "code",
   "execution_count": 6,
   "id": "54abf043",
   "metadata": {},
   "outputs": [],
   "source": [
    "i = insta()\n",
    "f = facebook()"
   ]
  },
  {
   "cell_type": "code",
   "execution_count": 7,
   "id": "dc2bbe4b",
   "metadata": {},
   "outputs": [
    {
     "name": "stdout",
     "output_type": "stream",
     "text": [
      "will share my insta story\n"
     ]
    }
   ],
   "source": [
    "share(i)"
   ]
  },
  {
   "cell_type": "code",
   "execution_count": 8,
   "id": "38f1a10c",
   "metadata": {},
   "outputs": [
    {
     "name": "stdout",
     "output_type": "stream",
     "text": [
      "will share my facebook story\n"
     ]
    }
   ],
   "source": [
    "share(f)"
   ]
  },
  {
   "cell_type": "code",
   "execution_count": 9,
   "id": "5bad462f",
   "metadata": {},
   "outputs": [],
   "source": [
    "class social_net:\n",
    "    \n",
    "    def share_stories(self):\n",
    "        print('shares a story')\n",
    "        \n",
    "    def upload_pic(self):\n",
    "        print('uploads a picture')\n",
    "        \n",
    "\n",
    "class facebook:\n",
    "    \n",
    "    def share_stories(self):\n",
    "        print('shares FACEBOOK story')\n",
    "    \n",
    "\n",
    "class insta:\n",
    "    \n",
    "    def share_stories(self):\n",
    "        print('shares INSTAGRAM story')"
   ]
  },
  {
   "cell_type": "code",
   "execution_count": 10,
   "id": "dea28819",
   "metadata": {},
   "outputs": [],
   "source": [
    "f = facebook()\n",
    "i = insta()"
   ]
  },
  {
   "cell_type": "code",
   "execution_count": 11,
   "id": "6f869627",
   "metadata": {},
   "outputs": [
    {
     "name": "stdout",
     "output_type": "stream",
     "text": [
      "shares FACEBOOK story\n",
      "shares INSTAGRAM story\n"
     ]
    }
   ],
   "source": [
    "f.share_stories()\n",
    "i.share_stories()"
   ]
  },
  {
   "cell_type": "code",
   "execution_count": 12,
   "id": "854bf05f",
   "metadata": {},
   "outputs": [],
   "source": [
    "class ExClass(Exception):\n",
    "    def __init__(self, msg):\n",
    "        self.msg = msg"
   ]
  },
  {
   "cell_type": "code",
   "execution_count": 13,
   "id": "de82ca86",
   "metadata": {},
   "outputs": [
    {
     "name": "stdout",
     "output_type": "stream",
     "text": [
      "this is my own exception class\n"
     ]
    }
   ],
   "source": [
    "try:\n",
    "    raise(ExClass('this is my own exception class'))\n",
    "except ExClass as e:\n",
    "    print(e)"
   ]
  },
  {
   "cell_type": "code",
   "execution_count": 14,
   "id": "233e3584",
   "metadata": {},
   "outputs": [
    {
     "name": "stdout",
     "output_type": "stream",
     "text": [
      "Batch: 2\n",
      "Course: FDSD\n"
     ]
    }
   ],
   "source": [
    "# Parent Class 1\n",
    "class BatchNumber:\n",
    "    \n",
    "    batchnumber = ''\n",
    "        \n",
    "    def batch(self):\n",
    "        print(self.batchnumber)\n",
    "        \n",
    "        \n",
    "# Parent Class 2\n",
    "class CourseName:\n",
    "    \n",
    "    cname = ''\n",
    "    \n",
    "    def course(self):\n",
    "        print(self.cname)\n",
    "        \n",
    "        \n",
    "# Child Class\n",
    "class Student(BatchNumber, CourseName):\n",
    "    \n",
    "    def __init__(self, batch, course):\n",
    "        'DUMMY INSTANCE VARIABLES'\n",
    "        self.batch = batch\n",
    "        self.course = course\n",
    "    \n",
    "    def deets(self):\n",
    "        print('Batch: {}'.format(self.batchnumber))\n",
    "        print('Course: {}'.format(self.cname))\n",
    "        \n",
    "        \n",
    "# Child class object creation\n",
    "s1 = Student('2','FDSD')\n",
    "s1.batchnumber = s1.batch\n",
    "s1.cname = s1.course\n",
    "s1.deets()"
   ]
  },
  {
   "cell_type": "markdown",
   "id": "1b925ff1",
   "metadata": {},
   "source": [
    "<b>Class Variable</b> example"
   ]
  },
  {
   "cell_type": "code",
   "execution_count": 15,
   "id": "80193eaa",
   "metadata": {},
   "outputs": [
    {
     "data": {
      "text/plain": [
       "''"
      ]
     },
     "execution_count": 15,
     "metadata": {},
     "output_type": "execute_result"
    }
   ],
   "source": [
    "BatchNumber.batchnumber"
   ]
  },
  {
   "cell_type": "code",
   "execution_count": 16,
   "id": "41d836b3",
   "metadata": {},
   "outputs": [
    {
     "data": {
      "text/plain": [
       "''"
      ]
     },
     "execution_count": 16,
     "metadata": {},
     "output_type": "execute_result"
    }
   ],
   "source": [
    "bn = BatchNumber()\n",
    "bn.batchnumber"
   ]
  },
  {
   "cell_type": "code",
   "execution_count": 17,
   "id": "185c23dd",
   "metadata": {},
   "outputs": [
    {
     "data": {
      "text/plain": [
       "40"
      ]
     },
     "execution_count": 17,
     "metadata": {},
     "output_type": "execute_result"
    }
   ],
   "source": [
    "bn.batchnumber = 40\n",
    "bn.batchnumber"
   ]
  },
  {
   "cell_type": "code",
   "execution_count": 18,
   "id": "86e62f51",
   "metadata": {},
   "outputs": [
    {
     "data": {
      "text/plain": [
       "''"
      ]
     },
     "execution_count": 18,
     "metadata": {},
     "output_type": "execute_result"
    }
   ],
   "source": [
    "BatchNumber.batchnumber"
   ]
  },
  {
   "cell_type": "code",
   "execution_count": 19,
   "id": "0bd9345b",
   "metadata": {},
   "outputs": [],
   "source": [
    "BatchNumber.batchnumber = 50"
   ]
  },
  {
   "cell_type": "code",
   "execution_count": 20,
   "id": "0b3b51f7",
   "metadata": {},
   "outputs": [
    {
     "name": "stdout",
     "output_type": "stream",
     "text": [
      "40\n",
      "50\n"
     ]
    }
   ],
   "source": [
    "print(bn.batchnumber)\n",
    "print(BatchNumber.batchnumber)"
   ]
  },
  {
   "cell_type": "markdown",
   "id": "7648c486",
   "metadata": {},
   "source": [
    "<b>Static Method</b> is a method which is independent of your class instances.<br>\n",
    "<b>Static Method</b> example:"
   ]
  },
  {
   "cell_type": "code",
   "execution_count": 21,
   "id": "93ffff48",
   "metadata": {},
   "outputs": [],
   "source": [
    "# Parent Class 1\n",
    "class BatchNumber:\n",
    "    \n",
    "    batchnumber = ''\n",
    "    \n",
    "    @staticmethod\n",
    "    def batch():\n",
    "        print('This is a static method')"
   ]
  },
  {
   "cell_type": "markdown",
   "id": "f1c72ff2",
   "metadata": {},
   "source": [
    "<b>@staticmethod</b> is a <b>Decorator</b>.<br>Decorator is an especially designed function that help other functions or instances to behave as for the definition"
   ]
  },
  {
   "cell_type": "code",
   "execution_count": 22,
   "id": "01088427",
   "metadata": {},
   "outputs": [],
   "source": [
    "bn = BatchNumber()"
   ]
  },
  {
   "cell_type": "code",
   "execution_count": 23,
   "id": "1e365ff6",
   "metadata": {},
   "outputs": [
    {
     "name": "stdout",
     "output_type": "stream",
     "text": [
      "This is a static method\n"
     ]
    }
   ],
   "source": [
    "bn.batch()"
   ]
  },
  {
   "cell_type": "code",
   "execution_count": 24,
   "id": "2937a9a9",
   "metadata": {},
   "outputs": [
    {
     "name": "stdout",
     "output_type": "stream",
     "text": [
      "This is a static method\n"
     ]
    }
   ],
   "source": [
    "BatchNumber.batch()"
   ]
  },
  {
   "cell_type": "code",
   "execution_count": 25,
   "id": "32198af7",
   "metadata": {},
   "outputs": [],
   "source": [
    "# Parent Class 1\n",
    "class BatchNumber:\n",
    "    \n",
    "    batchnumber = ''\n",
    "    \n",
    "    @staticmethod\n",
    "    def batch():\n",
    "        print('This is a static method')\n",
    "    \n",
    "    def batch_inst(self):\n",
    "        print('This is an instance method')"
   ]
  },
  {
   "cell_type": "code",
   "execution_count": 26,
   "id": "63b2229e",
   "metadata": {},
   "outputs": [
    {
     "name": "stdout",
     "output_type": "stream",
     "text": [
      "This is a static method\n"
     ]
    }
   ],
   "source": [
    "BatchNumber.batch()"
   ]
  },
  {
   "cell_type": "code",
   "execution_count": 27,
   "id": "dcf95ed4",
   "metadata": {},
   "outputs": [
    {
     "name": "stdout",
     "output_type": "stream",
     "text": [
      "This is an instance method\n"
     ]
    }
   ],
   "source": [
    "bn = BatchNumber()\n",
    "bn.batch_inst()"
   ]
  },
  {
   "cell_type": "code",
   "execution_count": 28,
   "id": "ab7e3301",
   "metadata": {},
   "outputs": [
    {
     "name": "stdout",
     "output_type": "stream",
     "text": [
      "Since batch_inst() is not a class function we will get the following error\n",
      "batch_inst() missing 1 required positional argument: 'self'\n"
     ]
    }
   ],
   "source": [
    "try:\n",
    "    BatchNumber.batch_inst()\n",
    "except TypeError as e:\n",
    "    print('Since batch_inst() is not a class function we will get the following error')\n",
    "    print('batch_inst() missing 1 required positional argument: \\'self\\'')"
   ]
  },
  {
   "cell_type": "code",
   "execution_count": 29,
   "id": "c8beca78",
   "metadata": {},
   "outputs": [],
   "source": [
    "class AccDetail:\n",
    "    \n",
    "    acc_no = '7633672847682'\n",
    "    \n",
    "    def __init__(self, amount):\n",
    "        self.amount = amount\n",
    "        \n",
    "    def show_balance(self, deduction):\n",
    "        self.amount = self.amount - deduction\n",
    "        return self.amount, self.acc_no"
   ]
  },
  {
   "cell_type": "code",
   "execution_count": 30,
   "id": "5e427b27",
   "metadata": {},
   "outputs": [],
   "source": [
    "acc = AccDetail(3000)"
   ]
  },
  {
   "cell_type": "code",
   "execution_count": 31,
   "id": "99bf2497",
   "metadata": {},
   "outputs": [
    {
     "data": {
      "text/plain": [
       "(2000, '7633672847682')"
      ]
     },
     "execution_count": 31,
     "metadata": {},
     "output_type": "execute_result"
    }
   ],
   "source": [
    "acc.show_balance(1000)"
   ]
  }
 ],
 "metadata": {
  "kernelspec": {
   "display_name": "Python 3",
   "language": "python",
   "name": "python3"
  },
  "language_info": {
   "codemirror_mode": {
    "name": "ipython",
    "version": 3
   },
   "file_extension": ".py",
   "mimetype": "text/x-python",
   "name": "python",
   "nbconvert_exporter": "python",
   "pygments_lexer": "ipython3",
   "version": "3.8.10"
  }
 },
 "nbformat": 4,
 "nbformat_minor": 5
}
