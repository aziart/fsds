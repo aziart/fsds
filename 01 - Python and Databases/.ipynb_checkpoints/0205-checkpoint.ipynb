{
 "cells": [
  {
   "cell_type": "markdown",
   "id": "0aacc6d8",
   "metadata": {},
   "source": [
    "# MySQL\n",
    "\n",
    "- install MySQL Community Server\n",
    "- install MySQL Workbench\n",
    "- install connector. Installed asa any other package in Python. Type in terminal: pip install mysql-connector-python\n",
    "- or type in jupyter notebook cell: !pip install mysql-connector-python"
   ]
  },
  {
   "cell_type": "code",
   "execution_count": null,
   "id": "840a08cf",
   "metadata": {},
   "outputs": [],
   "source": []
  },
  {
   "cell_type": "code",
   "execution_count": null,
   "id": "3288db0e",
   "metadata": {},
   "outputs": [],
   "source": []
  }
 ],
 "metadata": {
  "kernelspec": {
   "display_name": "Python 3",
   "language": "python",
   "name": "python3"
  },
  "language_info": {
   "codemirror_mode": {
    "name": "ipython",
    "version": 3
   },
   "file_extension": ".py",
   "mimetype": "text/x-python",
   "name": "python",
   "nbconvert_exporter": "python",
   "pygments_lexer": "ipython3",
   "version": "3.8.10"
  }
 },
 "nbformat": 4,
 "nbformat_minor": 5
}
