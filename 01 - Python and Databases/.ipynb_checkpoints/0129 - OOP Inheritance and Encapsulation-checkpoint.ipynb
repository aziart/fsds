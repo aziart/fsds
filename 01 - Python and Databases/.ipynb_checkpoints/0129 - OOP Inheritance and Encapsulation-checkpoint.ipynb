{
 "cells": [
  {
   "cell_type": "code",
   "execution_count": 1,
   "id": "ad18a50c",
   "metadata": {},
   "outputs": [],
   "source": [
    "class xyz:\n",
    "    \n",
    "    def __init__(self, a, b, c):\n",
    "        self.a = a\n",
    "        self.b = b\n",
    "        self.c = c\n",
    "        \n",
    "    def test(self):\n",
    "        print('this is first class method of xyz class')\n",
    "        \n",
    "    def test1(self):\n",
    "        print('this is second class method of xyz class')\n",
    "        \n",
    "    def test2(self):\n",
    "        print('this is third class method of xyz class')"
   ]
  },
  {
   "cell_type": "code",
   "execution_count": 2,
   "id": "de8801ea",
   "metadata": {},
   "outputs": [],
   "source": [
    "p = xyz(1,2,3)"
   ]
  },
  {
   "cell_type": "code",
   "execution_count": 3,
   "id": "fe2bc18b",
   "metadata": {},
   "outputs": [
    {
     "name": "stdout",
     "output_type": "stream",
     "text": [
      "this is second class method of xyz class\n"
     ]
    }
   ],
   "source": [
    "p.test1()"
   ]
  },
  {
   "cell_type": "code",
   "execution_count": 4,
   "id": "c5efbf97",
   "metadata": {},
   "outputs": [],
   "source": [
    "class xyz1(xyz):\n",
    "    pass"
   ]
  },
  {
   "cell_type": "code",
   "execution_count": 5,
   "id": "f0302175",
   "metadata": {},
   "outputs": [
    {
     "name": "stdout",
     "output_type": "stream",
     "text": [
      "try block would result us the following Type Error:\n",
      "__init__() missing 3 required positional arguments: 'a', 'b', and 'c'\n"
     ]
    }
   ],
   "source": [
    "try:\n",
    "    q = xyz1() # error: not provided a, b and c\n",
    "except:\n",
    "    print('try block would result us the following Type Error:')\n",
    "    print('__init__() missing 3 required positional arguments: \\'a\\', \\'b\\', and \\'c\\'')"
   ]
  },
  {
   "cell_type": "code",
   "execution_count": 6,
   "id": "610d1e95",
   "metadata": {},
   "outputs": [],
   "source": [
    "q = xyz1(4,5,6)"
   ]
  },
  {
   "cell_type": "code",
   "execution_count": 7,
   "id": "ea3a5124",
   "metadata": {},
   "outputs": [
    {
     "name": "stdout",
     "output_type": "stream",
     "text": [
      "this is third class method of xyz class\n"
     ]
    }
   ],
   "source": [
    "q.test2()"
   ]
  },
  {
   "cell_type": "markdown",
   "id": "5be150e2",
   "metadata": {},
   "source": [
    "###### We can rewrite child class functions inherited from parent class"
   ]
  },
  {
   "cell_type": "code",
   "execution_count": 8,
   "id": "280364b5",
   "metadata": {},
   "outputs": [],
   "source": [
    "class xyz1(xyz):\n",
    "    \n",
    "    def test(self):\n",
    "        print('new function output')"
   ]
  },
  {
   "cell_type": "code",
   "execution_count": 9,
   "id": "7d2b639b",
   "metadata": {},
   "outputs": [],
   "source": [
    "g = xyz1(1,2,3)"
   ]
  },
  {
   "cell_type": "code",
   "execution_count": 10,
   "id": "22dfcd1e",
   "metadata": {},
   "outputs": [
    {
     "name": "stdout",
     "output_type": "stream",
     "text": [
      "new function output\n"
     ]
    }
   ],
   "source": [
    "g.test()"
   ]
  },
  {
   "cell_type": "code",
   "execution_count": 11,
   "id": "6e4cca16",
   "metadata": {},
   "outputs": [],
   "source": [
    "class First():\n",
    "    \n",
    "    def __init__(self, a, b, c):\n",
    "        self.a = a\n",
    "        self.b = b\n",
    "        self.c = c\n",
    "        \n",
    "    def method(self):\n",
    "        print('test method of First class')\n",
    "        \n",
    "class Second():\n",
    "    \n",
    "    def __init__(self, p, q, v):\n",
    "        self.p = p\n",
    "        self.q = q\n",
    "        self.v = v\n",
    "        \n",
    "    def method(self):\n",
    "        print('test method of Second class')"
   ]
  },
  {
   "cell_type": "code",
   "execution_count": 12,
   "id": "18d9a971",
   "metadata": {},
   "outputs": [
    {
     "name": "stdout",
     "output_type": "stream",
     "text": [
      "test method of First class\n"
     ]
    },
    {
     "data": {
      "text/plain": [
       "1"
      ]
     },
     "execution_count": 12,
     "metadata": {},
     "output_type": "execute_result"
    }
   ],
   "source": [
    "class ChildClass(First, Second):\n",
    "    pass\n",
    "\n",
    "n = ChildClass(1,2,3)\n",
    "n.method()\n",
    "n.a\n",
    "# but p,q and v variables are not inhertited, because of the order of inheritance options\n",
    "# ChildClass inherited __init__ variables from First not from the Second one"
   ]
  },
  {
   "cell_type": "code",
   "execution_count": 13,
   "id": "2b4dbccf",
   "metadata": {},
   "outputs": [
    {
     "name": "stdout",
     "output_type": "stream",
     "text": [
      "test method of Second class\n"
     ]
    },
    {
     "data": {
      "text/plain": [
       "1"
      ]
     },
     "execution_count": 13,
     "metadata": {},
     "output_type": "execute_result"
    }
   ],
   "source": [
    "class ChildClass(Second, First):\n",
    "    pass\n",
    "\n",
    "n = ChildClass(1,2,3)\n",
    "n.method()\n",
    "n.p"
   ]
  },
  {
   "cell_type": "code",
   "execution_count": 14,
   "id": "b54e949f",
   "metadata": {},
   "outputs": [],
   "source": [
    "class ChildClass(First, Second):\n",
    "    \n",
    "    def __init__(self, *args):\n",
    "        First.__init__(self, *args)\n",
    "        Second.__init__(self, *args)"
   ]
  },
  {
   "cell_type": "code",
   "execution_count": 15,
   "id": "0bd1e602",
   "metadata": {},
   "outputs": [],
   "source": [
    "n = ChildClass(4,5,6)"
   ]
  },
  {
   "cell_type": "code",
   "execution_count": 16,
   "id": "c011e499",
   "metadata": {},
   "outputs": [
    {
     "name": "stdout",
     "output_type": "stream",
     "text": [
      "test method of First class\n"
     ]
    }
   ],
   "source": [
    "n.method()"
   ]
  },
  {
   "cell_type": "code",
   "execution_count": 17,
   "id": "e6dca664",
   "metadata": {},
   "outputs": [
    {
     "data": {
      "text/plain": [
       "4"
      ]
     },
     "execution_count": 17,
     "metadata": {},
     "output_type": "execute_result"
    }
   ],
   "source": [
    "n.a"
   ]
  },
  {
   "cell_type": "code",
   "execution_count": 18,
   "id": "ee858389",
   "metadata": {},
   "outputs": [
    {
     "data": {
      "text/plain": [
       "5"
      ]
     },
     "execution_count": 18,
     "metadata": {},
     "output_type": "execute_result"
    }
   ],
   "source": [
    "n.q"
   ]
  },
  {
   "cell_type": "code",
   "execution_count": 19,
   "id": "65056143",
   "metadata": {},
   "outputs": [],
   "source": [
    "class ChildClass(First, Second):\n",
    "    \n",
    "    def __init__(self, *args):\n",
    "        First.__init__(self, *args)\n",
    "        Second.__init__(self, *args)\n",
    "        \n",
    "    def method(self):\n",
    "        First.method(self)\n",
    "        Second.method(self)"
   ]
  },
  {
   "cell_type": "code",
   "execution_count": 20,
   "id": "442b2638",
   "metadata": {},
   "outputs": [],
   "source": [
    "n = ChildClass(4,5,6)"
   ]
  },
  {
   "cell_type": "code",
   "execution_count": 21,
   "id": "0d7beb55",
   "metadata": {},
   "outputs": [
    {
     "name": "stdout",
     "output_type": "stream",
     "text": [
      "test method of First class\n",
      "test method of Second class\n"
     ]
    }
   ],
   "source": [
    "n.method()"
   ]
  },
  {
   "cell_type": "code",
   "execution_count": 22,
   "id": "6252f16a",
   "metadata": {},
   "outputs": [],
   "source": [
    "class ChildClass(First, Second):\n",
    "    \n",
    "    def __init__(self, *args, **kwargs):\n",
    "        First.__init__(self, *args)\n",
    "        Second.__init__(self, **kwargs)\n",
    "        \n",
    "    def method(self):\n",
    "        First.method(self)\n",
    "        Second.method(self)"
   ]
  },
  {
   "cell_type": "code",
   "execution_count": 23,
   "id": "e89df92e",
   "metadata": {},
   "outputs": [],
   "source": [
    "n = ChildClass(4,5,6, p = 1, q = 2, v = 3)"
   ]
  },
  {
   "cell_type": "code",
   "execution_count": 24,
   "id": "62faf26d",
   "metadata": {},
   "outputs": [
    {
     "data": {
      "text/plain": [
       "1"
      ]
     },
     "execution_count": 24,
     "metadata": {},
     "output_type": "execute_result"
    }
   ],
   "source": [
    "n.p"
   ]
  },
  {
   "cell_type": "code",
   "execution_count": 25,
   "id": "052b4f09",
   "metadata": {},
   "outputs": [],
   "source": [
    "class First():\n",
    "    \n",
    "    def __init__(self, a, b, c):\n",
    "        self.a = a\n",
    "        self.b = b\n",
    "        self.c = c\n",
    "        \n",
    "    def method(self):\n",
    "        print('test method of First class')\n",
    "        \n",
    "class Second(First):\n",
    "    \n",
    "    def second_method(self):\n",
    "        print('test method of Second class')\n",
    "        \n",
    "class Third(Second):\n",
    "    \n",
    "    def third_method(self):\n",
    "        print('test method of Third class')"
   ]
  },
  {
   "cell_type": "code",
   "execution_count": 26,
   "id": "ba4db031",
   "metadata": {},
   "outputs": [
    {
     "name": "stdout",
     "output_type": "stream",
     "text": [
      "__init__ missing 3 required positional arguments a, b and c\n"
     ]
    }
   ],
   "source": [
    "try:\n",
    "    v = Third()\n",
    "except:\n",
    "    print('__init__ missing 3 required positional arguments a, b and c')"
   ]
  },
  {
   "cell_type": "code",
   "execution_count": 27,
   "id": "ebc01a90",
   "metadata": {},
   "outputs": [],
   "source": [
    "v = Third(4,5,6)"
   ]
  },
  {
   "cell_type": "code",
   "execution_count": 28,
   "id": "71fd4ad5",
   "metadata": {},
   "outputs": [
    {
     "name": "stdout",
     "output_type": "stream",
     "text": [
      "test method of First class\n",
      "test method of Second class\n",
      "test method of Third class\n"
     ]
    }
   ],
   "source": [
    "v.method()\n",
    "v.second_method()\n",
    "v.third_method()"
   ]
  },
  {
   "cell_type": "markdown",
   "id": "ed7f4c64",
   "metadata": {},
   "source": [
    "## Task:\n",
    "- create a file class for reading data from respective file with a methods named 'read' and 'write'\n",
    "- try to inherit read and write method from class to child class to perform read and write operation"
   ]
  },
  {
   "cell_type": "code",
   "execution_count": 29,
   "id": "11c6822e",
   "metadata": {},
   "outputs": [],
   "source": [
    "import logging\n",
    "\n",
    "logging.basicConfig(filename = '0129 - list.log',\n",
    "                    level = logging.DEBUG,\n",
    "                    format = '%(asctime)s %(levelname)s %(message)s',\n",
    "                    filemode = 'w')\n",
    "\n",
    "class File:\n",
    "    \n",
    "    def __init__(self, filename):\n",
    "        logging.info('Creating a File instance variable')\n",
    "        self.file = filename\n",
    "    \n",
    "    def read(self):\n",
    "        logging.info('Executing read method')\n",
    "        \n",
    "        try:\n",
    "            with open(f'{self.file}.txt', 'r') as f:\n",
    "                data = f.read()\n",
    "                return data\n",
    "        except FileNotFoundError as e:\n",
    "            logging.error('Error occured while opening the file')\n",
    "            logging.exception(f'Error is {e}')\n",
    "\n",
    "    def write(self):\n",
    "        logging.info('Executing write method')\n",
    "        \n",
    "        try:\n",
    "            with open(f'{self.file}.txt', 'w') as f:\n",
    "                data = f.write(data)\n",
    "        except FileNotFoundError as e:\n",
    "            logging.error('Something is going wrong')\n",
    "\n",
    "\n",
    "class ChildClass(File):\n",
    "    pass"
   ]
  },
  {
   "cell_type": "code",
   "execution_count": 30,
   "id": "3a785af4",
   "metadata": {},
   "outputs": [],
   "source": [
    "file_object = File('0129 - OOP')"
   ]
  },
  {
   "cell_type": "code",
   "execution_count": 31,
   "id": "3a4cdc57",
   "metadata": {},
   "outputs": [
    {
     "data": {
      "text/plain": [
       "'LICENSE\\nMANIFEST.in\\nREADME.rst\\nsetup.cfg\\nsetup.py\\ncertifi/__init__.py\\ncertifi/__main__.py\\ncertifi/cacert.pem\\ncertifi/core.py\\ncertifi.egg-info/PKG-INFO\\ncertifi.egg-info/SOURCES.txt\\ncertifi.egg-info/dependency_links.txt\\ncertifi.egg-info/not-zip-safe\\ncertifi.egg-info/top_level.txt'"
      ]
     },
     "execution_count": 31,
     "metadata": {},
     "output_type": "execute_result"
    }
   ],
   "source": [
    "file_object.read()"
   ]
  },
  {
   "cell_type": "code",
   "execution_count": 32,
   "id": "bd01564d",
   "metadata": {},
   "outputs": [],
   "source": [
    "class Bonus:\n",
    "    \n",
    "    def __init__(self, empid, emprating):\n",
    "        self.empid = empid\n",
    "        self.emprating = emprating\n",
    "        self.__bonusforratingA = '70%'\n",
    "        self.__bonusforratingB = '60%'\n",
    "        self.__bonusforratingC = '40%'\n",
    "        \n",
    "    def bonuscalculator(self):\n",
    "        if self.emprating == 'A':\n",
    "            bonus = self.__bonusforratingA\n",
    "            return bonus\n",
    "        elif self.emprating == 'B':\n",
    "            bonus = self.__bonusforratingB\n",
    "            return bonus\n",
    "        else:\n",
    "            bonus = self.__bonusforratingC\n",
    "            return bonus"
   ]
  },
  {
   "cell_type": "code",
   "execution_count": 33,
   "id": "8a0f6f35",
   "metadata": {},
   "outputs": [],
   "source": [
    "emp1 =  Bonus(101, 'A')\n",
    "emp2 =  Bonus(102, 'B')\n",
    "emp3 =  Bonus(103, 'C')"
   ]
  },
  {
   "cell_type": "code",
   "execution_count": 34,
   "id": "20198a0b",
   "metadata": {},
   "outputs": [
    {
     "data": {
      "text/plain": [
       "'70%'"
      ]
     },
     "execution_count": 34,
     "metadata": {},
     "output_type": "execute_result"
    }
   ],
   "source": [
    "emp1.bonuscalculator()"
   ]
  },
  {
   "cell_type": "code",
   "execution_count": 35,
   "id": "a9f5cea3",
   "metadata": {},
   "outputs": [
    {
     "data": {
      "text/plain": [
       "'60%'"
      ]
     },
     "execution_count": 35,
     "metadata": {},
     "output_type": "execute_result"
    }
   ],
   "source": [
    "emp1.empid = 104\n",
    "emp1.emprating = 'B'\n",
    "emp1.bonuscalculator()"
   ]
  },
  {
   "cell_type": "code",
   "execution_count": 36,
   "id": "e22d9e25",
   "metadata": {},
   "outputs": [],
   "source": [
    "emp1.__bonusforratingB = '90%'"
   ]
  },
  {
   "cell_type": "code",
   "execution_count": 37,
   "id": "356d1d30",
   "metadata": {},
   "outputs": [
    {
     "data": {
      "text/plain": [
       "'90%'"
      ]
     },
     "execution_count": 37,
     "metadata": {},
     "output_type": "execute_result"
    }
   ],
   "source": [
    "emp1.__bonusforratingB"
   ]
  },
  {
   "cell_type": "code",
   "execution_count": 38,
   "id": "848d5aea",
   "metadata": {},
   "outputs": [
    {
     "data": {
      "text/plain": [
       "'60%'"
      ]
     },
     "execution_count": 38,
     "metadata": {},
     "output_type": "execute_result"
    }
   ],
   "source": [
    "emp1.bonuscalculator()"
   ]
  },
  {
   "cell_type": "code",
   "execution_count": 39,
   "id": "1f0e7915",
   "metadata": {},
   "outputs": [
    {
     "name": "stdout",
     "output_type": "stream",
     "text": [
      "60%\n",
      "60%\n"
     ]
    }
   ],
   "source": [
    "print(emp2.bonuscalculator())\n",
    "emp2.__bonusforratingB = '100%'\n",
    "print(emp2.bonuscalculator())"
   ]
  },
  {
   "cell_type": "code",
   "execution_count": 40,
   "id": "ae2c1fea",
   "metadata": {},
   "outputs": [
    {
     "name": "stdout",
     "output_type": "stream",
     "text": [
      "60%\n",
      "100%\n"
     ]
    }
   ],
   "source": [
    "print(emp2.bonuscalculator())\n",
    "emp2._Bonus__bonusforratingB = '100%'\n",
    "print(emp2.bonuscalculator())"
   ]
  },
  {
   "cell_type": "code",
   "execution_count": 41,
   "id": "4d69288d",
   "metadata": {},
   "outputs": [],
   "source": [
    "class Bonus:\n",
    "    \n",
    "    def __init__(self, empid, emprating):\n",
    "        self.empid = empid\n",
    "        self.emprating = emprating\n",
    "        self._empmail = 'test.user@gmail.com'\n",
    "        self.__bonusforratingA = '70%'\n",
    "        self.__bonusforratingB = '60%'\n",
    "        self.__bonusforratingC = '40%'\n",
    "        \n",
    "    def bonuscalculator(self):\n",
    "        if self.emprating == 'A':\n",
    "            bonus = self.__bonusforratingA\n",
    "            return bonus\n",
    "        elif self.emprating == 'B':\n",
    "            bonus = self.__bonusforratingB\n",
    "            return bonus\n",
    "        else:\n",
    "            bonus = self.__bonusforratingC\n",
    "            return bonus\n",
    "\n",
    "        \n",
    "emp1 =  Bonus(101, 'A')\n",
    "emp2 =  Bonus(102, 'B')\n",
    "emp3 =  Bonus(103, 'C')"
   ]
  },
  {
   "cell_type": "code",
   "execution_count": 42,
   "id": "8aa9cb16",
   "metadata": {},
   "outputs": [
    {
     "name": "stdout",
     "output_type": "stream",
     "text": [
      "test.user@gmail.com\n",
      "changed.mail@gmail.com\n"
     ]
    }
   ],
   "source": [
    "print(emp2._empmail)\n",
    "emp2._empmail = 'changed.mail@gmail.com'\n",
    "print(emp2._empmail)"
   ]
  },
  {
   "cell_type": "code",
   "execution_count": 43,
   "id": "5c6809c9",
   "metadata": {},
   "outputs": [
    {
     "name": "stdout",
     "output_type": "stream",
     "text": [
      "AttributeError: 'Bonus' object has no attribute '__bonusforratingA'\n"
     ]
    }
   ],
   "source": [
    "'''PRIVATE VARIABLE CANNOT BE ACCESSED OR CHANGED FROM OUTSIDE A CLASS\n",
    "PRIVATE VARIABLES ARE DENOTED BY 2 UNDERSCORES'''\n",
    "\n",
    "try:\n",
    "    print(emp2.__bonusforratingA)\n",
    "except:\n",
    "    print('AttributeError: \\'Bonus\\' object has no attribute \\'__bonusforratingA\\'')"
   ]
  }
 ],
 "metadata": {
  "kernelspec": {
   "display_name": "Python 3",
   "language": "python",
   "name": "python3"
  },
  "language_info": {
   "codemirror_mode": {
    "name": "ipython",
    "version": 3
   },
   "file_extension": ".py",
   "mimetype": "text/x-python",
   "name": "python",
   "nbconvert_exporter": "python",
   "pygments_lexer": "ipython3",
   "version": "3.8.10"
  }
 },
 "nbformat": 4,
 "nbformat_minor": 5
}
