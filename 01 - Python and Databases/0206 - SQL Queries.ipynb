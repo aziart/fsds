{
 "cells": [
  {
   "cell_type": "code",
   "execution_count": 1,
   "metadata": {},
   "outputs": [],
   "source": [
    "import mysql.connector as conn\n",
    "mydb = conn.connect (host = 'localhost', user = 'root', passwd = '12345678')\n",
    "cursor = mydb.cursor(buffered=True)"
   ]
  },
  {
   "cell_type": "code",
   "execution_count": 2,
   "metadata": {},
   "outputs": [
    {
     "data": {
      "text/plain": [
       "[('information_schema',), ('mysql',), ('performance_schema',), ('sys',)]"
      ]
     },
     "execution_count": 2,
     "metadata": {},
     "output_type": "execute_result"
    }
   ],
   "source": [
    "cursor.execute('show databases')\n",
    "cursor.fetchall()"
   ]
  },
  {
   "cell_type": "code",
   "execution_count": 3,
   "metadata": {},
   "outputs": [],
   "source": [
    "cursor.execute('create database fsds')\n",
    "cursor.execute('create table fsds.glassdata(col1 INT(10), col2 float(10,5), col3 float(10,5), col4 float(10,5), col5 float(10,5), col6 float(10,5), col7 float(10,5), col8 float(10,5), col9 float(10,5), col10 float(10,5), col11 INT(10))')\n",
    "cursor.execute('use fsds')\n",
    "\n",
    "import csv\n",
    "with open('data/glass.data', 'r') as f:\n",
    "    glass_data = csv.reader(f, delimiter = '\\n')\n",
    "    # print(glass_data)\n",
    "\n",
    "    for i in glass_data:\n",
    "        # print(i[0])\n",
    "        # print(f'insert into glassdata values ({str(i[0])})')\n",
    "        cursor.execute('insert into fsds.glassdata values ({values})'.format(values = i[0]))\n",
    "\n",
    "mydb.commit()"
   ]
  },
  {
   "cell_type": "code",
   "execution_count": 4,
   "metadata": {},
   "outputs": [
    {
     "data": {
      "text/plain": [
       "(1, 1.52101, 13.64, 4.49, 1.1, 71.78, 0.06, 8.75, 0.0, 0.0, 1)"
      ]
     },
     "execution_count": 4,
     "metadata": {},
     "output_type": "execute_result"
    }
   ],
   "source": [
    "cursor.execute('select * from fsds.glassdata')\n",
    "cursor.fetchone()"
   ]
  },
  {
   "cell_type": "markdown",
   "metadata": {},
   "source": [
    "### Selecting certain columns from a table"
   ]
  },
  {
   "cell_type": "code",
   "execution_count": 5,
   "metadata": {},
   "outputs": [
    {
     "data": {
      "text/plain": [
       "[(1, 1.1, 0.0),\n",
       " (2, 1.36, 0.0),\n",
       " (3, 1.54, 0.0),\n",
       " (4, 1.29, 0.0),\n",
       " (5, 1.24, 0.0),\n",
       " (6, 1.62, 0.26),\n",
       " (7, 1.14, 0.0),\n",
       " (8, 1.05, 0.0),\n",
       " (9, 1.37, 0.0),\n",
       " (10, 1.36, 0.11)]"
      ]
     },
     "execution_count": 5,
     "metadata": {},
     "output_type": "execute_result"
    }
   ],
   "source": [
    "cursor.execute('select col1, col5, col10 from fsds.glassdata')\n",
    "cursor.fetchmany(10)"
   ]
  },
  {
   "cell_type": "markdown",
   "metadata": {},
   "source": [
    "### Filtering while selecting"
   ]
  },
  {
   "cell_type": "code",
   "execution_count": 6,
   "metadata": {},
   "outputs": [
    {
     "data": {
      "text/plain": [
       "[(6, 1.51596, 12.79, 3.61, 1.62, 72.97, 0.64, 8.07, 0.0, 0.26, 1),\n",
       " (8, 1.51756, 13.15, 3.61, 1.05, 73.24, 0.57, 8.24, 0.0, 0.0, 1),\n",
       " (77, 1.51645, 13.44, 3.61, 1.54, 72.39, 0.66, 8.03, 0.0, 0.0, 2),\n",
       " (127, 1.51667, 12.94, 3.61, 1.26, 72.75, 0.56, 8.6, 0.0, 0.0, 2)]"
      ]
     },
     "execution_count": 6,
     "metadata": {},
     "output_type": "execute_result"
    }
   ],
   "source": [
    "cursor.execute('select * from fsds.glassdata where col4 = 3.61')\n",
    "cursor.fetchall()"
   ]
  },
  {
   "cell_type": "code",
   "execution_count": 7,
   "metadata": {},
   "outputs": [
    {
     "data": {
      "text/plain": [
       "[(77, 1.51645, 13.44, 3.61, 1.54, 72.39, 0.66, 8.03, 0.0, 0.0, 2),\n",
       " (127, 1.51667, 12.94, 3.61, 1.26, 72.75, 0.56, 8.6, 0.0, 0.0, 2)]"
      ]
     },
     "execution_count": 7,
     "metadata": {},
     "output_type": "execute_result"
    }
   ],
   "source": [
    "cursor.execute('select * from fsds.glassdata where col4 = 3.61 and col10 = 0 and col11 = 2')\n",
    "cursor.fetchall()"
   ]
  },
  {
   "cell_type": "markdown",
   "metadata": {},
   "source": [
    "### Deleting rows from table"
   ]
  },
  {
   "cell_type": "code",
   "execution_count": 8,
   "metadata": {},
   "outputs": [
    {
     "data": {
      "text/plain": [
       "[]"
      ]
     },
     "execution_count": 8,
     "metadata": {},
     "output_type": "execute_result"
    }
   ],
   "source": [
    "cursor.execute('delete from fsds.glassdata where col1 = 1')\n",
    "cursor.execute('select * from fsds.glassdata where col1 = 1')\n",
    "cursor.fetchall()"
   ]
  },
  {
   "cell_type": "markdown",
   "metadata": {},
   "source": [
    "since we changed a table by deleting a row, we have to commit our changes"
   ]
  },
  {
   "cell_type": "code",
   "execution_count": 9,
   "metadata": {},
   "outputs": [],
   "source": [
    "mydb.commit()"
   ]
  },
  {
   "cell_type": "markdown",
   "metadata": {},
   "source": [
    "### Update in sql"
   ]
  },
  {
   "cell_type": "code",
   "execution_count": 10,
   "metadata": {},
   "outputs": [],
   "source": [
    "cursor.execute('UPDATE fsds.glassdata set col1 = 1, col2 = 0 where col1 = 77')"
   ]
  },
  {
   "cell_type": "code",
   "execution_count": 11,
   "metadata": {},
   "outputs": [],
   "source": [
    "mydb.commit()"
   ]
  },
  {
   "cell_type": "code",
   "execution_count": 12,
   "metadata": {},
   "outputs": [
    {
     "data": {
      "text/plain": [
       "[(1, 0.0, 13.44, 3.61, 1.54, 72.39, 0.66, 8.03, 0.0, 0.0, 2)]"
      ]
     },
     "execution_count": 12,
     "metadata": {},
     "output_type": "execute_result"
    }
   ],
   "source": [
    "cursor.execute('select * from fsds.glassdata where col1 = 1')\n",
    "cursor.fetchall()"
   ]
  },
  {
   "cell_type": "markdown",
   "metadata": {},
   "source": [
    "### GROUP BY"
   ]
  },
  {
   "cell_type": "code",
   "execution_count": 13,
   "metadata": {},
   "outputs": [
    {
     "data": {
      "text/plain": [
       "[(2, 1), (3, 1), (4, 1), (5, 1), (1, 1)]"
      ]
     },
     "execution_count": 13,
     "metadata": {},
     "output_type": "execute_result"
    }
   ],
   "source": [
    "cursor.execute('select col1, count(col2) as cnt from fsds.glassdata where col1 < 6 group by col1')\n",
    "cursor.fetchall()"
   ]
  },
  {
   "cell_type": "code",
   "execution_count": 14,
   "metadata": {},
   "outputs": [
    {
     "data": {
      "text/plain": [
       "[(2, 1, 1), (3, 1, 1), (4, 1, 1), (5, 1, 1), (1, 1, 2)]"
      ]
     },
     "execution_count": 14,
     "metadata": {},
     "output_type": "execute_result"
    }
   ],
   "source": [
    "cursor.execute('select col1, count(col1), col11 from fsds.glassdata where col1 < 6 group by col1, col11')\n",
    "cursor.fetchall()"
   ]
  },
  {
   "cell_type": "code",
   "execution_count": 15,
   "metadata": {},
   "outputs": [
    {
     "data": {
      "text/plain": [
       "[(1.52152, 3),\n",
       " (1.5159, 3),\n",
       " (1.51761, 2),\n",
       " (1.51618, 2),\n",
       " (1.51596, 2),\n",
       " (1.51743, 2),\n",
       " (1.51755, 2),\n",
       " (1.51763, 2),\n",
       " (1.51784, 2),\n",
       " (1.51793, 2)]"
      ]
     },
     "execution_count": 15,
     "metadata": {},
     "output_type": "execute_result"
    }
   ],
   "source": [
    "# finding duplicates in col2\n",
    "cursor.execute('select col2, count(*) as cnt from fsds.glassdata group by col2 order by cnt desc')\n",
    "cursor.fetchmany(10)"
   ]
  },
  {
   "cell_type": "markdown",
   "metadata": {},
   "source": [
    "### DELETING A TABLE"
   ]
  },
  {
   "cell_type": "code",
   "execution_count": 16,
   "metadata": {},
   "outputs": [],
   "source": [
    "cursor.execute('drop table fsds.glassdata')"
   ]
  },
  {
   "cell_type": "code",
   "execution_count": 17,
   "metadata": {},
   "outputs": [],
   "source": [
    "mydb.commit()"
   ]
  },
  {
   "cell_type": "code",
   "execution_count": 18,
   "metadata": {},
   "outputs": [
    {
     "data": {
      "text/plain": [
       "[]"
      ]
     },
     "execution_count": 18,
     "metadata": {},
     "output_type": "execute_result"
    }
   ],
   "source": [
    "cursor.execute('use fsds')\n",
    "cursor.execute('show tables')\n",
    "cursor.fetchall()"
   ]
  },
  {
   "cell_type": "markdown",
   "metadata": {},
   "source": [
    "recreate table glassdata"
   ]
  },
  {
   "cell_type": "code",
   "execution_count": 19,
   "metadata": {},
   "outputs": [],
   "source": [
    "cursor.execute('create table glassdata(col1 INT(10), col2 float(10,5), col3 float(10,5), col4 float(10,5), col5 float(10,5), col6 float(10,5), col7 float(10,5), col8 float(10,5), col9 float(10,5), col10 float(10,5), col11 INT(10))')\n",
    "cursor.execute('use fsds')\n",
    "\n",
    "import csv\n",
    "with open('data/glass.data', 'r') as f:\n",
    "    glass_data = csv.reader(f, delimiter = '\\n')\n",
    "    # print(glass_data)\n",
    "\n",
    "    for i in glass_data:\n",
    "        cursor.execute('insert into glassdata values ({values})'.format(values = i[0]))\n",
    "\n",
    "mydb.commit()"
   ]
  },
  {
   "cell_type": "code",
   "execution_count": 20,
   "metadata": {},
   "outputs": [
    {
     "data": {
      "text/plain": [
       "[(1, 1.52101, 13.64, 4.49, 1.1, 71.78, 0.06, 8.75, 0.0, 0.0, 1),\n",
       " (2, 1.51761, 13.89, 3.6, 1.36, 72.73, 0.48, 7.83, 0.0, 0.0, 1),\n",
       " (3, 1.51618, 13.53, 3.55, 1.54, 72.99, 0.39, 7.78, 0.0, 0.0, 1),\n",
       " (4, 1.51766, 13.21, 3.69, 1.29, 72.61, 0.57, 8.22, 0.0, 0.0, 1),\n",
       " (5, 1.51742, 13.27, 3.62, 1.24, 73.08, 0.55, 8.07, 0.0, 0.0, 1)]"
      ]
     },
     "execution_count": 20,
     "metadata": {},
     "output_type": "execute_result"
    }
   ],
   "source": [
    "cursor.execute('select * from fsds.glassdata')\n",
    "cursor.fetchmany(5)"
   ]
  },
  {
   "cell_type": "code",
   "execution_count": 21,
   "metadata": {},
   "outputs": [
    {
     "data": {
      "text/plain": [
       "[(6, 1.51596, 12.79, 3.61, 1.62, 72.97, 0.64, 8.07, 0.0, 0.26, 1),\n",
       " (11, 1.51571, 12.72, 3.46, 1.56, 73.2, 0.67, 8.09, 0.0, 0.24, 1),\n",
       " (13, 1.51589, 12.88, 3.43, 1.4, 73.28, 0.69, 8.05, 0.0, 0.24, 1),\n",
       " (36, 1.51567, 13.29, 3.45, 1.21, 72.74, 0.56, 8.57, 0.0, 0.0, 1),\n",
       " (71, 1.51574, 14.86, 3.67, 1.74, 71.87, 0.16, 7.36, 0.0, 0.12, 2)]"
      ]
     },
     "execution_count": 21,
     "metadata": {},
     "output_type": "execute_result"
    }
   ],
   "source": [
    "cursor.execute('select * from glassdata where col2 like \\'1.515%\\'')\n",
    "cursor.fetchmany(5)"
   ]
  },
  {
   "cell_type": "markdown",
   "metadata": {},
   "source": [
    "### SORTING"
   ]
  },
  {
   "cell_type": "code",
   "execution_count": 22,
   "metadata": {},
   "outputs": [
    {
     "data": {
      "text/plain": [
       "[(185, 1.51115, 17.38, 0.0, 0.34, 75.41, 0.0, 6.65, 0.0, 0.0, 6),\n",
       " (190, 1.52365, 15.79, 1.83, 1.31, 70.43, 0.31, 8.61, 1.68, 0.0, 7),\n",
       " (201, 1.51508, 15.15, 0.0, 2.25, 73.5, 0.0, 8.34, 0.63, 0.0, 7),\n",
       " (200, 1.51609, 15.01, 0.0, 2.51, 73.05, 0.05, 8.83, 0.53, 0.0, 7),\n",
       " (182, 1.51888, 14.99, 0.78, 1.74, 72.5, 0.0, 9.95, 0.0, 0.0, 6),\n",
       " (205, 1.51617, 14.95, 0.0, 2.27, 73.3, 0.0, 8.71, 0.67, 0.0, 7),\n",
       " (206, 1.51732, 14.95, 0.0, 1.8, 72.99, 0.0, 8.61, 1.55, 0.0, 7),\n",
       " (207, 1.51645, 14.94, 0.0, 1.87, 73.11, 0.0, 8.67, 1.38, 0.0, 7),\n",
       " (211, 1.51685, 14.92, 0.0, 1.99, 73.06, 0.0, 8.4, 1.59, 0.0, 7),\n",
       " (71, 1.51574, 14.86, 3.67, 1.74, 71.87, 0.16, 7.36, 0.0, 0.12, 2)]"
      ]
     },
     "execution_count": 22,
     "metadata": {},
     "output_type": "execute_result"
    }
   ],
   "source": [
    "cursor.execute('select * from glassdata order by col3 desc')\n",
    "cursor.fetchmany(10)"
   ]
  },
  {
   "cell_type": "markdown",
   "metadata": {},
   "source": [
    "### SUBQUERIES"
   ]
  },
  {
   "cell_type": "code",
   "execution_count": 23,
   "metadata": {},
   "outputs": [
    {
     "data": {
      "text/plain": [
       "[(147, 1.51769, 13.65, 3.66, 1.11, 72.77, 0.11, 8.6, 0.0, 0.0, 3),\n",
       " (148, 1.5161, 13.33, 3.53, 1.34, 72.67, 0.56, 8.33, 0.0, 0.0, 3),\n",
       " (149, 1.5167, 13.24, 3.57, 1.38, 72.7, 0.56, 8.44, 0.0, 0.1, 3),\n",
       " (150, 1.51643, 12.16, 3.52, 1.35, 72.89, 0.57, 8.53, 0.0, 0.0, 3),\n",
       " (151, 1.51665, 13.14, 3.45, 1.76, 72.48, 0.6, 8.38, 0.0, 0.17, 3),\n",
       " (152, 1.52127, 14.32, 3.9, 0.83, 71.5, 0.0, 9.49, 0.0, 0.0, 3),\n",
       " (153, 1.51779, 13.64, 3.65, 0.65, 73.0, 0.06, 8.93, 0.0, 0.0, 3),\n",
       " (154, 1.5161, 13.42, 3.4, 1.22, 72.69, 0.59, 8.32, 0.0, 0.0, 3),\n",
       " (155, 1.51694, 12.86, 3.58, 1.31, 72.61, 0.61, 8.79, 0.0, 0.0, 3),\n",
       " (156, 1.51646, 13.04, 3.4, 1.26, 73.01, 0.52, 8.58, 0.0, 0.0, 3)]"
      ]
     },
     "execution_count": 23,
     "metadata": {},
     "output_type": "execute_result"
    }
   ],
   "source": [
    "cursor.execute('select * from (select * from glassdata where col1>120) as temp where col11 = 3')\n",
    "cursor.fetchmany(10)"
   ]
  },
  {
   "cell_type": "code",
   "execution_count": 24,
   "metadata": {},
   "outputs": [
    {
     "data": {
      "text/plain": [
       "[(1.52152, 3), (1.5159, 3), (1.51645, 3)]"
      ]
     },
     "execution_count": 24,
     "metadata": {},
     "output_type": "execute_result"
    }
   ],
   "source": [
    "cursor.execute('select col2, count(col2) as cnt from glassdata group by col2 HAVING COUNT(COL2) > 2 order by count(col2) desc')\n",
    "cursor.fetchmany(10)"
   ]
  },
  {
   "cell_type": "markdown",
   "metadata": {},
   "source": [
    "### TASK\n",
    "- download a data set from attached URL https://archive.ics.uci.edu/ml/datasets/Car+Evaluation\n",
    "- create a database called CARDATASET\n",
    "- create a table called CAR with column names given in dataset description\n",
    "- dump all the data into CAR table\n",
    "- check whether data is available in a table\n",
    "- group all the data with COL1 and count occurences of each and every record based on COL1 value\n",
    "- filter a record where COL3 value is 4\n",
    "- update COL3 value with value 8 instead of 2\n",
    "- delete a table\n",
    "- delete a database"
   ]
  },
  {
   "cell_type": "markdown",
   "metadata": {},
   "source": [
    "### create a database called CARDATASET"
   ]
  },
  {
   "cell_type": "code",
   "execution_count": 25,
   "metadata": {},
   "outputs": [],
   "source": [
    "cursor.execute('CREATE DATABASE CARDATASET')"
   ]
  },
  {
   "cell_type": "code",
   "execution_count": 26,
   "metadata": {},
   "outputs": [
    {
     "data": {
      "text/plain": [
       "[('CARDATASET',),\n",
       " ('fsds',),\n",
       " ('information_schema',),\n",
       " ('mysql',),\n",
       " ('performance_schema',),\n",
       " ('sys',)]"
      ]
     },
     "execution_count": 26,
     "metadata": {},
     "output_type": "execute_result"
    }
   ],
   "source": [
    "cursor.execute('show databases')\n",
    "cursor.fetchall()"
   ]
  },
  {
   "cell_type": "code",
   "execution_count": 27,
   "metadata": {},
   "outputs": [],
   "source": [
    "cursor.execute('use CARDATASET')"
   ]
  },
  {
   "cell_type": "markdown",
   "metadata": {},
   "source": [
    "### create a table called CAR with column names given in dataset description"
   ]
  },
  {
   "cell_type": "code",
   "execution_count": 28,
   "metadata": {},
   "outputs": [],
   "source": [
    "cursor.execute('create table CAR(buying VARCHAR(6), maint VARCHAR(6), doors VARCHAR(6), persons VARCHAR(4), lug_boot VARCHAR(5), safety VARCHAR(4), class VARCHAR(6))')"
   ]
  },
  {
   "cell_type": "markdown",
   "metadata": {},
   "source": [
    "### dump all the data into CAR table"
   ]
  },
  {
   "cell_type": "code",
   "execution_count": 29,
   "metadata": {},
   "outputs": [
    {
     "data": {
      "text/html": [
       "<div>\n",
       "<style scoped>\n",
       "    .dataframe tbody tr th:only-of-type {\n",
       "        vertical-align: middle;\n",
       "    }\n",
       "\n",
       "    .dataframe tbody tr th {\n",
       "        vertical-align: top;\n",
       "    }\n",
       "\n",
       "    .dataframe thead th {\n",
       "        text-align: right;\n",
       "    }\n",
       "</style>\n",
       "<table border=\"1\" class=\"dataframe\">\n",
       "  <thead>\n",
       "    <tr style=\"text-align: right;\">\n",
       "      <th></th>\n",
       "      <th>vhigh</th>\n",
       "      <th>vhigh.1</th>\n",
       "      <th>2</th>\n",
       "      <th>2.1</th>\n",
       "      <th>small</th>\n",
       "      <th>low</th>\n",
       "      <th>unacc</th>\n",
       "    </tr>\n",
       "  </thead>\n",
       "  <tbody>\n",
       "    <tr>\n",
       "      <th>0</th>\n",
       "      <td>vhigh</td>\n",
       "      <td>vhigh</td>\n",
       "      <td>2</td>\n",
       "      <td>2</td>\n",
       "      <td>small</td>\n",
       "      <td>med</td>\n",
       "      <td>unacc</td>\n",
       "    </tr>\n",
       "    <tr>\n",
       "      <th>1</th>\n",
       "      <td>vhigh</td>\n",
       "      <td>vhigh</td>\n",
       "      <td>2</td>\n",
       "      <td>2</td>\n",
       "      <td>small</td>\n",
       "      <td>high</td>\n",
       "      <td>unacc</td>\n",
       "    </tr>\n",
       "    <tr>\n",
       "      <th>2</th>\n",
       "      <td>vhigh</td>\n",
       "      <td>vhigh</td>\n",
       "      <td>2</td>\n",
       "      <td>2</td>\n",
       "      <td>med</td>\n",
       "      <td>low</td>\n",
       "      <td>unacc</td>\n",
       "    </tr>\n",
       "    <tr>\n",
       "      <th>3</th>\n",
       "      <td>vhigh</td>\n",
       "      <td>vhigh</td>\n",
       "      <td>2</td>\n",
       "      <td>2</td>\n",
       "      <td>med</td>\n",
       "      <td>med</td>\n",
       "      <td>unacc</td>\n",
       "    </tr>\n",
       "    <tr>\n",
       "      <th>4</th>\n",
       "      <td>vhigh</td>\n",
       "      <td>vhigh</td>\n",
       "      <td>2</td>\n",
       "      <td>2</td>\n",
       "      <td>med</td>\n",
       "      <td>high</td>\n",
       "      <td>unacc</td>\n",
       "    </tr>\n",
       "  </tbody>\n",
       "</table>\n",
       "</div>"
      ],
      "text/plain": [
       "   vhigh vhigh.1  2 2.1  small   low  unacc\n",
       "0  vhigh   vhigh  2   2  small   med  unacc\n",
       "1  vhigh   vhigh  2   2  small  high  unacc\n",
       "2  vhigh   vhigh  2   2    med   low  unacc\n",
       "3  vhigh   vhigh  2   2    med   med  unacc\n",
       "4  vhigh   vhigh  2   2    med  high  unacc"
      ]
     },
     "execution_count": 29,
     "metadata": {},
     "output_type": "execute_result"
    }
   ],
   "source": [
    "import pandas as pd\n",
    "car_data = pd.read_csv('data/car.data', index_col=False, delimiter = ',')\n",
    "car_data.head()"
   ]
  },
  {
   "cell_type": "code",
   "execution_count": 30,
   "metadata": {},
   "outputs": [
    {
     "name": "stdout",
     "output_type": "stream",
     "text": [
      "You're connected to database:  ('cardataset',)\n",
      "Creating table....\n",
      "Table is created....\n",
      "DATA INSERTED\n"
     ]
    }
   ],
   "source": [
    "import mysql.connector as conn\n",
    "from mysql.connector import Error\n",
    "try:\n",
    "    mydb = conn.connect(host='localhost', database='CARDATASET', user='root', password='12345678')\n",
    "    if mydb.is_connected():\n",
    "        cursor = mydb.cursor(buffered=True)\n",
    "        cursor.execute(\"select database();\")\n",
    "        record = cursor.fetchone()\n",
    "        print(\"You're connected to database: \", record)\n",
    "        cursor.execute('DROP TABLE IF EXISTS CAR;')\n",
    "        print('Creating table....')\n",
    "# in the below line please pass the create table statement which you want #to create\n",
    "        cursor.execute(\"create table CAR(buying VARCHAR(6), maint VARCHAR(6), doors VARCHAR(6), persons VARCHAR(4), lug_boot VARCHAR(5), safety VARCHAR(4), class VARCHAR(6))\")\n",
    "        print(\"Table is created....\")\n",
    "        #loop through the data frame\n",
    "        for i,row in car_data.iterrows():\n",
    "            #here %S means string values \n",
    "            sql = \"INSERT INTO CARDATASET.CAR VALUES (%s,%s,%s,%s,%s,%s,%s)\"\n",
    "            cursor.execute(sql, tuple(row))\n",
    "            # print(\"Record inserted\")\n",
    "            # the connection is not auto committed by default, so we must commit to save our changes\n",
    "            mydb.commit()\n",
    "except Error as e:\n",
    "            print(\"Error while connecting to MySQL\", e)\n",
    "\n",
    "print('DATA INSERTED')"
   ]
  },
  {
   "cell_type": "markdown",
   "metadata": {},
   "source": [
    "### check whether data is available in a table"
   ]
  },
  {
   "cell_type": "code",
   "execution_count": 31,
   "metadata": {},
   "outputs": [
    {
     "data": {
      "text/plain": [
       "[('vhigh', 'vhigh', '2', '2', 'small', 'med', 'unacc'),\n",
       " ('vhigh', 'vhigh', '2', '2', 'small', 'high', 'unacc'),\n",
       " ('vhigh', 'vhigh', '2', '2', 'med', 'low', 'unacc'),\n",
       " ('vhigh', 'vhigh', '2', '2', 'med', 'med', 'unacc'),\n",
       " ('vhigh', 'vhigh', '2', '2', 'med', 'high', 'unacc'),\n",
       " ('vhigh', 'vhigh', '2', '2', 'big', 'low', 'unacc'),\n",
       " ('vhigh', 'vhigh', '2', '2', 'big', 'med', 'unacc'),\n",
       " ('vhigh', 'vhigh', '2', '2', 'big', 'high', 'unacc'),\n",
       " ('vhigh', 'vhigh', '2', '4', 'small', 'low', 'unacc'),\n",
       " ('vhigh', 'vhigh', '2', '4', 'small', 'med', 'unacc')]"
      ]
     },
     "execution_count": 31,
     "metadata": {},
     "output_type": "execute_result"
    }
   ],
   "source": [
    "cursor.execute('select * from cardataset.car')\n",
    "cursor.fetchmany(10)"
   ]
  },
  {
   "cell_type": "markdown",
   "metadata": {},
   "source": [
    "### group all the data with COL1 and count occurences of each and every record based on COL1 value"
   ]
  },
  {
   "cell_type": "code",
   "execution_count": 32,
   "metadata": {},
   "outputs": [
    {
     "data": {
      "text/plain": [
       "[('high', 432), ('med', 432), ('low', 432), ('vhigh', 431)]"
      ]
     },
     "execution_count": 32,
     "metadata": {},
     "output_type": "execute_result"
    }
   ],
   "source": [
    "cursor.execute('select buying, count(buying) as BCNT from cardataset.car group by buying order by count(buying) desc')\n",
    "cursor.fetchall()"
   ]
  },
  {
   "cell_type": "markdown",
   "metadata": {},
   "source": [
    "### filter a record where COL3 value is 4"
   ]
  },
  {
   "cell_type": "code",
   "execution_count": 33,
   "metadata": {},
   "outputs": [
    {
     "data": {
      "text/plain": [
       "[('vhigh', 'vhigh', '4', '2', 'small', 'low', 'unacc'),\n",
       " ('vhigh', 'vhigh', '4', '2', 'small', 'med', 'unacc'),\n",
       " ('vhigh', 'vhigh', '4', '2', 'small', 'high', 'unacc'),\n",
       " ('vhigh', 'vhigh', '4', '2', 'med', 'low', 'unacc'),\n",
       " ('vhigh', 'vhigh', '4', '2', 'med', 'med', 'unacc'),\n",
       " ('vhigh', 'vhigh', '4', '2', 'med', 'high', 'unacc'),\n",
       " ('vhigh', 'vhigh', '4', '2', 'big', 'low', 'unacc'),\n",
       " ('vhigh', 'vhigh', '4', '2', 'big', 'med', 'unacc'),\n",
       " ('vhigh', 'vhigh', '4', '2', 'big', 'high', 'unacc'),\n",
       " ('vhigh', 'vhigh', '4', '4', 'small', 'low', 'unacc')]"
      ]
     },
     "execution_count": 33,
     "metadata": {},
     "output_type": "execute_result"
    }
   ],
   "source": [
    "cursor.execute('select * from cardataset.car where doors = 4')\n",
    "cursor.fetchmany(10)"
   ]
  },
  {
   "cell_type": "markdown",
   "metadata": {},
   "source": [
    "### update COL3 value with value 8 instead of 2"
   ]
  },
  {
   "cell_type": "code",
   "execution_count": 34,
   "metadata": {},
   "outputs": [
    {
     "data": {
      "text/plain": [
       "[]"
      ]
     },
     "execution_count": 34,
     "metadata": {},
     "output_type": "execute_result"
    }
   ],
   "source": [
    "cursor.execute('update cardataset.car set doors = \"8\" where doors = \"2\"')\n",
    "mydb.commit()\n",
    "cursor.execute('select * from cardataset.car where doors = \"2\"')\n",
    "cursor.fetchall()"
   ]
  },
  {
   "cell_type": "markdown",
   "metadata": {},
   "source": [
    "### delete a table"
   ]
  },
  {
   "cell_type": "code",
   "execution_count": 35,
   "metadata": {},
   "outputs": [],
   "source": [
    "cursor.execute('drop table cardataset.car')"
   ]
  },
  {
   "cell_type": "markdown",
   "metadata": {},
   "source": [
    "### delete a database"
   ]
  },
  {
   "cell_type": "code",
   "execution_count": 36,
   "metadata": {},
   "outputs": [],
   "source": [
    "cursor.execute('drop database cardataset')\n",
    "cursor.execute('drop database fsds')"
   ]
  }
 ],
 "metadata": {
  "kernelspec": {
   "display_name": "Python 3.8.10 ('base')",
   "language": "python",
   "name": "python3"
  },
  "language_info": {
   "codemirror_mode": {
    "name": "ipython",
    "version": 3
   },
   "file_extension": ".py",
   "mimetype": "text/x-python",
   "name": "python",
   "nbconvert_exporter": "python",
   "pygments_lexer": "ipython3",
   "version": "3.8.10 (default, May 19 2021, 11:01:55) \n[Clang 10.0.0 ]"
  },
  "orig_nbformat": 4,
  "vscode": {
   "interpreter": {
    "hash": "598ccc34a6681c0a6b2f14d1445d786ab693ba2956be1f5fb8bd7dda96c5e8f5"
   }
  }
 },
 "nbformat": 4,
 "nbformat_minor": 2
}
