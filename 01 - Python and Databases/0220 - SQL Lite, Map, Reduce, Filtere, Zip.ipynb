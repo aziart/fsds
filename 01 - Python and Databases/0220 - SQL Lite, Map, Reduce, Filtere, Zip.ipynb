{
 "cells": [
  {
   "cell_type": "markdown",
   "metadata": {},
   "source": [
    "### SQL Lite"
   ]
  },
  {
   "cell_type": "code",
   "execution_count": 1,
   "metadata": {},
   "outputs": [],
   "source": [
    "import sqlite3"
   ]
  },
  {
   "cell_type": "code",
   "execution_count": 2,
   "metadata": {},
   "outputs": [],
   "source": [
    "db = sqlite3.connect('databases/0220_fsds.db')"
   ]
  },
  {
   "cell_type": "code",
   "execution_count": 3,
   "metadata": {},
   "outputs": [],
   "source": [
    "cursor = db.cursor()"
   ]
  },
  {
   "cell_type": "code",
   "execution_count": 4,
   "metadata": {},
   "outputs": [
    {
     "data": {
      "text/plain": [
       "<sqlite3.Cursor at 0x7ff6b0aa8340>"
      ]
     },
     "execution_count": 4,
     "metadata": {},
     "output_type": "execute_result"
    }
   ],
   "source": [
    "cursor.execute('DROP TABLE IF EXISTS fsds')\n",
    "cursor.execute('create table fsds(name text, batch int, marks real)')"
   ]
  },
  {
   "cell_type": "code",
   "execution_count": 5,
   "metadata": {},
   "outputs": [
    {
     "data": {
      "text/plain": [
       "<sqlite3.Cursor at 0x7ff6b0aa8340>"
      ]
     },
     "execution_count": 5,
     "metadata": {},
     "output_type": "execute_result"
    }
   ],
   "source": [
    "cursor.execute('insert into fsds values(\"azi\", 123, \"3.7\")')"
   ]
  },
  {
   "cell_type": "code",
   "execution_count": 6,
   "metadata": {},
   "outputs": [
    {
     "data": {
      "text/plain": [
       "[('azi', 123, 3.7)]"
      ]
     },
     "execution_count": 6,
     "metadata": {},
     "output_type": "execute_result"
    }
   ],
   "source": [
    "cursor.execute('select * from fsds')\n",
    "cursor.fetchall()"
   ]
  },
  {
   "cell_type": "code",
   "execution_count": 7,
   "metadata": {},
   "outputs": [
    {
     "data": {
      "text/plain": [
       "<sqlite3.Cursor at 0x7ff6b0aa8340>"
      ]
     },
     "execution_count": 7,
     "metadata": {},
     "output_type": "execute_result"
    }
   ],
   "source": [
    "cursor.execute('insert into fsds values(\"azi\", 123, \"3.7\")')\n",
    "cursor.execute('insert into fsds values(\"azi\", 123, \"3.7\")')\n",
    "cursor.execute('insert into fsds values(\"azi\", 123, \"3.7\")')\n",
    "cursor.execute('insert into fsds values(\"azi\", 123, \"3.7\")')\n",
    "cursor.execute('insert into fsds values(\"azi\", 123, \"3.7\")')\n",
    "cursor.execute('insert into fsds values(\"azi\", 123, \"3.7\")')"
   ]
  },
  {
   "cell_type": "code",
   "execution_count": 8,
   "metadata": {},
   "outputs": [
    {
     "data": {
      "text/plain": [
       "[('azi', 123, 3.7),\n",
       " ('azi', 123, 3.7),\n",
       " ('azi', 123, 3.7),\n",
       " ('azi', 123, 3.7),\n",
       " ('azi', 123, 3.7),\n",
       " ('azi', 123, 3.7),\n",
       " ('azi', 123, 3.7)]"
      ]
     },
     "execution_count": 8,
     "metadata": {},
     "output_type": "execute_result"
    }
   ],
   "source": [
    "cursor.execute('select * from fsds')\n",
    "cursor.fetchall()"
   ]
  },
  {
   "cell_type": "code",
   "execution_count": 9,
   "metadata": {},
   "outputs": [
    {
     "name": "stdout",
     "output_type": "stream",
     "text": [
      "('azi', 123, 3.7)\n",
      "('azi', 123, 3.7)\n",
      "('azi', 123, 3.7)\n",
      "('azi', 123, 3.7)\n",
      "('azi', 123, 3.7)\n",
      "('azi', 123, 3.7)\n",
      "('azi', 123, 3.7)\n"
     ]
    }
   ],
   "source": [
    "data = cursor.execute('select * from fsds')\n",
    "for i in data:\n",
    "    print(i)"
   ]
  },
  {
   "cell_type": "code",
   "execution_count": 10,
   "metadata": {},
   "outputs": [],
   "source": [
    "db.commit()\n",
    "db.close()"
   ]
  },
  {
   "cell_type": "code",
   "execution_count": 11,
   "metadata": {},
   "outputs": [],
   "source": [
    "db = sqlite3.connect('databases/0220_fsds.db')"
   ]
  },
  {
   "cell_type": "code",
   "execution_count": 12,
   "metadata": {},
   "outputs": [],
   "source": [
    "cursor = db.cursor()"
   ]
  },
  {
   "cell_type": "code",
   "execution_count": 13,
   "metadata": {},
   "outputs": [
    {
     "data": {
      "text/plain": [
       "[('azi', 123, 3.7),\n",
       " ('azi', 123, 3.7),\n",
       " ('azi', 123, 3.7),\n",
       " ('azi', 123, 3.7),\n",
       " ('azi', 123, 3.7),\n",
       " ('azi', 123, 3.7),\n",
       " ('azi', 123, 3.7)]"
      ]
     },
     "execution_count": 13,
     "metadata": {},
     "output_type": "execute_result"
    }
   ],
   "source": [
    "cursor.execute('select * from fsds where marks > 3.6')\n",
    "cursor.fetchall()"
   ]
  },
  {
   "cell_type": "code",
   "execution_count": 14,
   "metadata": {},
   "outputs": [
    {
     "name": "stdout",
     "output_type": "stream",
     "text": [
      "('azi', 3.7)\n",
      "('azi', 3.7)\n",
      "('azi', 3.7)\n",
      "('azi', 3.7)\n",
      "('azi', 3.7)\n",
      "('azi', 3.7)\n",
      "('azi', 3.7)\n"
     ]
    }
   ],
   "source": [
    "data = cursor.execute('select name, marks from fsds')\n",
    "\n",
    "for i in data:\n",
    "    print(i)"
   ]
  },
  {
   "cell_type": "code",
   "execution_count": 15,
   "metadata": {},
   "outputs": [
    {
     "data": {
      "text/plain": [
       "[('fsds',)]"
      ]
     },
     "execution_count": 15,
     "metadata": {},
     "output_type": "execute_result"
    }
   ],
   "source": [
    "cursor.execute(\"SELECT name FROM sqlite_master WHERE type='table'\")\n",
    "cursor.fetchall()"
   ]
  },
  {
   "cell_type": "code",
   "execution_count": 16,
   "metadata": {},
   "outputs": [],
   "source": [
    "db.close()"
   ]
  },
  {
   "cell_type": "code",
   "execution_count": 17,
   "metadata": {},
   "outputs": [],
   "source": [
    "db = sqlite3.connect('databases/0220_person.db')\n",
    "cursor = db.cursor()"
   ]
  },
  {
   "cell_type": "code",
   "execution_count": 18,
   "metadata": {},
   "outputs": [
    {
     "data": {
      "text/plain": [
       "<sqlite3.Cursor at 0x7ff6b0afc2d0>"
      ]
     },
     "execution_count": 18,
     "metadata": {},
     "output_type": "execute_result"
    }
   ],
   "source": [
    "cursor.execute('DROP TABLE IF EXISTS person_table')\n",
    "cursor.execute('create table person_table(name text, emailid text, age int, salary real)')"
   ]
  },
  {
   "cell_type": "code",
   "execution_count": 19,
   "metadata": {},
   "outputs": [],
   "source": [
    "cursor.execute('insert into person_table values(\"John Doe\", \"John.Doe@email.com\", 30, 75000)')\n",
    "cursor.execute('insert into person_table values(\"Don Doe\", \"Don.Doe@email.com\", 25, 56000)')\n",
    "cursor.execute('insert into person_table values(\"Don Joe\", \"Don.Joe@email.com\", 41, 99000)')\n",
    "cursor.execute('insert into person_table values(\"Joe Don\", \"Joe.Don@email.com\", 21, 40000)')\n",
    "db.commit()"
   ]
  },
  {
   "cell_type": "code",
   "execution_count": 20,
   "metadata": {},
   "outputs": [
    {
     "data": {
      "text/plain": [
       "[('John Doe', 'John.Doe@email.com', 30, 75000.0),\n",
       " ('Don Doe', 'Don.Doe@email.com', 25, 56000.0),\n",
       " ('Don Joe', 'Don.Joe@email.com', 41, 99000.0),\n",
       " ('Joe Don', 'Joe.Don@email.com', 21, 40000.0)]"
      ]
     },
     "execution_count": 20,
     "metadata": {},
     "output_type": "execute_result"
    }
   ],
   "source": [
    "cursor.execute('select * from person_table')\n",
    "cursor.fetchall()"
   ]
  },
  {
   "cell_type": "code",
   "execution_count": 21,
   "metadata": {},
   "outputs": [
    {
     "name": "stdout",
     "output_type": "stream",
     "text": [
      "('John Doe', 'John.Doe@email.com', 30, 75000.0)\n",
      "('Don Doe', 'Don.Doe@email.com', 25, 56000.0)\n",
      "('Don Joe', 'Don.Joe@email.com', 41, 99000.0)\n",
      "('Joe Don', 'Joe.Don@email.com', 21, 40000.0)\n"
     ]
    }
   ],
   "source": [
    "data = cursor.execute('select * from person_table')\n",
    "\n",
    "for i in data:\n",
    "    print(i)"
   ]
  },
  {
   "cell_type": "code",
   "execution_count": 22,
   "metadata": {},
   "outputs": [],
   "source": [
    "db.close()"
   ]
  },
  {
   "cell_type": "code",
   "execution_count": 23,
   "metadata": {},
   "outputs": [
    {
     "data": {
      "text/plain": [
       "<sqlite3.Cursor at 0x7ff6b0afc6c0>"
      ]
     },
     "execution_count": 23,
     "metadata": {},
     "output_type": "execute_result"
    }
   ],
   "source": [
    "db = sqlite3.connect('databases/0220_fsds.db')\n",
    "cursor = db.cursor()\n",
    "cursor.execute('drop table fsds')"
   ]
  },
  {
   "cell_type": "code",
   "execution_count": 24,
   "metadata": {},
   "outputs": [
    {
     "data": {
      "text/plain": [
       "[]"
      ]
     },
     "execution_count": 24,
     "metadata": {},
     "output_type": "execute_result"
    }
   ],
   "source": [
    "cursor.execute(\"SELECT name FROM sqlite_master WHERE type='table'\")\n",
    "cursor.fetchall()"
   ]
  },
  {
   "cell_type": "code",
   "execution_count": 25,
   "metadata": {},
   "outputs": [],
   "source": [
    "db.close()"
   ]
  },
  {
   "cell_type": "code",
   "execution_count": 26,
   "metadata": {},
   "outputs": [
    {
     "name": "stdout",
     "output_type": "stream",
     "text": [
      "('John Doe', 'John.Doe@email.com', 30, 75000.0)\n",
      "('Don Doe', 'Don.Doe@email.com', 25, 56000.0)\n"
     ]
    }
   ],
   "source": [
    "db = sqlite3.connect('databases/0220_person.db')\n",
    "cursor = db.cursor()\n",
    "data = cursor.execute('select * from person_table limit 2')\n",
    "for _ in data:\n",
    "    print(_)"
   ]
  },
  {
   "cell_type": "code",
   "execution_count": 27,
   "metadata": {},
   "outputs": [],
   "source": [
    "db.close()"
   ]
  },
  {
   "cell_type": "markdown",
   "metadata": {},
   "source": [
    "### JOINS"
   ]
  },
  {
   "cell_type": "code",
   "execution_count": 28,
   "metadata": {},
   "outputs": [],
   "source": [
    "db = sqlite3.connect('databases/0220_jobdb.db')\n",
    "cursor = db.cursor()"
   ]
  },
  {
   "cell_type": "code",
   "execution_count": 29,
   "metadata": {},
   "outputs": [
    {
     "data": {
      "text/plain": [
       "<sqlite3.Cursor at 0x7ff6b0afcb90>"
      ]
     },
     "execution_count": 29,
     "metadata": {},
     "output_type": "execute_result"
    }
   ],
   "source": [
    "cursor.execute('drop table if exists student')\n",
    "cursor.execute('drop table if exists address')"
   ]
  },
  {
   "cell_type": "code",
   "execution_count": 30,
   "metadata": {},
   "outputs": [
    {
     "data": {
      "text/plain": [
       "<sqlite3.Cursor at 0x7ff6b0afcb90>"
      ]
     },
     "execution_count": 30,
     "metadata": {},
     "output_type": "execute_result"
    }
   ],
   "source": [
    "cursor.execute('create table student(student_id int, student_name text, student_mailid text, marks int)')"
   ]
  },
  {
   "cell_type": "code",
   "execution_count": 31,
   "metadata": {},
   "outputs": [
    {
     "data": {
      "text/plain": [
       "<sqlite3.Cursor at 0x7ff6b0afcb90>"
      ]
     },
     "execution_count": 31,
     "metadata": {},
     "output_type": "execute_result"
    }
   ],
   "source": [
    "cursor.execute('create table address(student_id int, pincode int, location text, nearby text, phone_no int)')"
   ]
  },
  {
   "cell_type": "code",
   "execution_count": 32,
   "metadata": {},
   "outputs": [
    {
     "data": {
      "text/plain": [
       "<sqlite3.Cursor at 0x7ff6b0afcb90>"
      ]
     },
     "execution_count": 32,
     "metadata": {},
     "output_type": "execute_result"
    }
   ],
   "source": [
    "cursor.execute('insert into student values(100, \"John\", \"John.Doe@email.com\", 90)')\n",
    "cursor.execute('insert into student values(101, \"John\", \"John.Doe@email.com\", 90)')\n",
    "cursor.execute('insert into student values(102, \"John\", \"John.Doe@email.com\", 90)')\n",
    "cursor.execute('insert into student values(103, \"John\", \"John.Doe@email.com\", 90)')\n",
    "cursor.execute('insert into student values(104, \"John\", \"John.Doe@email.com\", 90)')\n",
    "cursor.execute('insert into student values(105, \"John\", \"John.Doe@email.com\", 90)')\n",
    "cursor.execute('insert into student values(106, \"John\", \"John.Doe@email.com\", 90)')\n",
    "cursor.execute('insert into student values(107, \"John\", \"John.Doe@email.com\", 90)')\n",
    "cursor.execute('insert into student values(108, \"John\", \"John.Doe@email.com\", 90)')"
   ]
  },
  {
   "cell_type": "code",
   "execution_count": 33,
   "metadata": {},
   "outputs": [],
   "source": [
    "db.commit()"
   ]
  },
  {
   "cell_type": "code",
   "execution_count": 34,
   "metadata": {},
   "outputs": [
    {
     "data": {
      "text/plain": [
       "<sqlite3.Cursor at 0x7ff6b0afcb90>"
      ]
     },
     "execution_count": 34,
     "metadata": {},
     "output_type": "execute_result"
    }
   ],
   "source": [
    "cursor.execute('insert into address values(101, 560034, \"whitefield\", \"gh office\", 23657823)')\n",
    "cursor.execute('insert into address values(102, 560034, \"whitefield\", \"gh office\", 23657823)')\n",
    "cursor.execute('insert into address values(103, 560034, \"whitefield\", \"gh office\", 23657823)')\n",
    "cursor.execute('insert into address values(104, 560034, \"whitefield\", \"gh office\", 23657823)')\n",
    "cursor.execute('insert into address values(105, 560034, \"whitefield\", \"gh office\", 23657823)')\n",
    "cursor.execute('insert into address values(106, 560034, \"whitefield\", \"gh office\", 23657823)')\n",
    "cursor.execute('insert into address values(107, 560034, \"whitefield\", \"gh office\", 23657823)')\n",
    "cursor.execute('insert into address values(108, 560034, \"whitefield\", \"gh office\", 23657823)')\n",
    "cursor.execute('insert into address values(105, 565034, \"whitefield\", \"gh office\", 23657823)')\n",
    "cursor.execute('insert into address values(105, 566034, \"whitefield\", \"gh office\", 23657823)')\n",
    "cursor.execute('insert into address values(111, 560034, \"whitefield\", \"gh office\", 23657823)')\n",
    "cursor.execute('insert into address values(112, 560034, \"whitefield\", \"gh office\", 23657823)')\n",
    "cursor.execute('insert into address values(113, 560034, \"whitefield\", \"gh office\", 23657823)')\n",
    "cursor.execute('insert into address values(114, 560034, \"whitefield\", \"gh office\", 23657823)')\n",
    "cursor.execute('insert into address values(115, 560034, \"whitefield\", \"gh office\", 23657823)')\n",
    "cursor.execute('insert into address values(116, 560034, \"whitefield\", \"gh office\", 23657823)')"
   ]
  },
  {
   "cell_type": "code",
   "execution_count": 35,
   "metadata": {},
   "outputs": [],
   "source": [
    "db.commit()"
   ]
  },
  {
   "cell_type": "code",
   "execution_count": 36,
   "metadata": {},
   "outputs": [
    {
     "name": "stdout",
     "output_type": "stream",
     "text": [
      "(100, 'John', 'John.Doe@email.com', 90)\n",
      "(101, 'John', 'John.Doe@email.com', 90)\n",
      "(102, 'John', 'John.Doe@email.com', 90)\n",
      "(103, 'John', 'John.Doe@email.com', 90)\n",
      "(104, 'John', 'John.Doe@email.com', 90)\n",
      "(105, 'John', 'John.Doe@email.com', 90)\n",
      "(106, 'John', 'John.Doe@email.com', 90)\n",
      "(107, 'John', 'John.Doe@email.com', 90)\n",
      "(108, 'John', 'John.Doe@email.com', 90)\n"
     ]
    }
   ],
   "source": [
    "for i in cursor.execute('select * from student'):\n",
    "    print(i)"
   ]
  },
  {
   "cell_type": "code",
   "execution_count": 37,
   "metadata": {},
   "outputs": [
    {
     "name": "stdout",
     "output_type": "stream",
     "text": [
      "(101, 560034, 'whitefield', 'gh office', 23657823)\n",
      "(102, 560034, 'whitefield', 'gh office', 23657823)\n",
      "(103, 560034, 'whitefield', 'gh office', 23657823)\n",
      "(104, 560034, 'whitefield', 'gh office', 23657823)\n",
      "(105, 560034, 'whitefield', 'gh office', 23657823)\n",
      "(106, 560034, 'whitefield', 'gh office', 23657823)\n",
      "(107, 560034, 'whitefield', 'gh office', 23657823)\n",
      "(108, 560034, 'whitefield', 'gh office', 23657823)\n",
      "(105, 565034, 'whitefield', 'gh office', 23657823)\n",
      "(105, 566034, 'whitefield', 'gh office', 23657823)\n",
      "(111, 560034, 'whitefield', 'gh office', 23657823)\n",
      "(112, 560034, 'whitefield', 'gh office', 23657823)\n",
      "(113, 560034, 'whitefield', 'gh office', 23657823)\n",
      "(114, 560034, 'whitefield', 'gh office', 23657823)\n",
      "(115, 560034, 'whitefield', 'gh office', 23657823)\n",
      "(116, 560034, 'whitefield', 'gh office', 23657823)\n"
     ]
    }
   ],
   "source": [
    "for i in cursor.execute('select * from address'):\n",
    "    print(i)"
   ]
  },
  {
   "cell_type": "code",
   "execution_count": 38,
   "metadata": {},
   "outputs": [
    {
     "name": "stdout",
     "output_type": "stream",
     "text": [
      "(100, 'John', 'John.Doe@email.com', 90, None, None, None, None, None)\n",
      "(101, 'John', 'John.Doe@email.com', 90, 101, 560034, 'whitefield', 'gh office', 23657823)\n",
      "(102, 'John', 'John.Doe@email.com', 90, 102, 560034, 'whitefield', 'gh office', 23657823)\n",
      "(103, 'John', 'John.Doe@email.com', 90, 103, 560034, 'whitefield', 'gh office', 23657823)\n",
      "(104, 'John', 'John.Doe@email.com', 90, 104, 560034, 'whitefield', 'gh office', 23657823)\n",
      "(105, 'John', 'John.Doe@email.com', 90, 105, 560034, 'whitefield', 'gh office', 23657823)\n",
      "(105, 'John', 'John.Doe@email.com', 90, 105, 565034, 'whitefield', 'gh office', 23657823)\n",
      "(105, 'John', 'John.Doe@email.com', 90, 105, 566034, 'whitefield', 'gh office', 23657823)\n",
      "(106, 'John', 'John.Doe@email.com', 90, 106, 560034, 'whitefield', 'gh office', 23657823)\n",
      "(107, 'John', 'John.Doe@email.com', 90, 107, 560034, 'whitefield', 'gh office', 23657823)\n",
      "(108, 'John', 'John.Doe@email.com', 90, 108, 560034, 'whitefield', 'gh office', 23657823)\n"
     ]
    }
   ],
   "source": [
    "sql_script = \"SELECT T1.*, T2.*\\\n",
    "    FROM STUDENT T1\\\n",
    "    LEFT JOIN ADDRESS T2\\\n",
    "    ON T1.STUDENT_ID = T2.STUDENT_ID\"\n",
    "data = cursor.execute(sql_script)\n",
    "for i in data:\n",
    "    print(i)"
   ]
  },
  {
   "cell_type": "code",
   "execution_count": 39,
   "metadata": {},
   "outputs": [
    {
     "name": "stdout",
     "output_type": "stream",
     "text": [
      "(101, 'John', 'John.Doe@email.com', 90, 101, 560034, 'whitefield', 'gh office', 23657823)\n",
      "(102, 'John', 'John.Doe@email.com', 90, 102, 560034, 'whitefield', 'gh office', 23657823)\n",
      "(103, 'John', 'John.Doe@email.com', 90, 103, 560034, 'whitefield', 'gh office', 23657823)\n",
      "(104, 'John', 'John.Doe@email.com', 90, 104, 560034, 'whitefield', 'gh office', 23657823)\n",
      "(105, 'John', 'John.Doe@email.com', 90, 105, 560034, 'whitefield', 'gh office', 23657823)\n",
      "(106, 'John', 'John.Doe@email.com', 90, 106, 560034, 'whitefield', 'gh office', 23657823)\n",
      "(107, 'John', 'John.Doe@email.com', 90, 107, 560034, 'whitefield', 'gh office', 23657823)\n",
      "(108, 'John', 'John.Doe@email.com', 90, 108, 560034, 'whitefield', 'gh office', 23657823)\n",
      "(105, 'John', 'John.Doe@email.com', 90, 105, 565034, 'whitefield', 'gh office', 23657823)\n",
      "(105, 'John', 'John.Doe@email.com', 90, 105, 566034, 'whitefield', 'gh office', 23657823)\n"
     ]
    }
   ],
   "source": [
    "sql_script = \"SELECT T1.*, T2.*\\\n",
    "    FROM STUDENT T1\\\n",
    "    LEFT JOIN ADDRESS T2\\\n",
    "    ON T1.STUDENT_ID = T2.STUDENT_ID\\\n",
    "    WHERE T2.STUDENT_ID IS NOT NULL\"\n",
    "data = cursor.execute(sql_script)\n",
    "for i in data:\n",
    "    print(i)"
   ]
  },
  {
   "cell_type": "code",
   "execution_count": 40,
   "metadata": {},
   "outputs": [
    {
     "name": "stdout",
     "output_type": "stream",
     "text": [
      "['student_id', 'student_name', 'student_mailid', 'marks']\n"
     ]
    }
   ],
   "source": [
    "data = cursor.execute('select * from student')\n",
    "names = list(map(lambda x: x[0], data.description))\n",
    "print(names)"
   ]
  },
  {
   "cell_type": "code",
   "execution_count": 41,
   "metadata": {},
   "outputs": [
    {
     "name": "stdout",
     "output_type": "stream",
     "text": [
      "(100, 'John', 'John.Doe@email.com', 90)\n",
      "(101, 'John', 'John.Doe@email.com', 90)\n",
      "(102, 'John', 'John.Doe@email.com', 90)\n",
      "(103, 'John', 'John.Doe@email.com', 90)\n",
      "(104, 'John', 'John.Doe@email.com', 90)\n",
      "(105, 'John', 'John.Doe@email.com', 90)\n",
      "(106, 'John', 'John.Doe@email.com', 90)\n"
     ]
    }
   ],
   "source": [
    "sql_script = 'delete from student where student_id > 106'\n",
    "cursor.execute(sql_script)\n",
    "db.commit()\n",
    "data = cursor.execute('select * from student')\n",
    "for i in data:\n",
    "    print(i)"
   ]
  },
  {
   "cell_type": "code",
   "execution_count": 42,
   "metadata": {},
   "outputs": [
    {
     "name": "stdout",
     "output_type": "stream",
     "text": [
      "(107, 'John', 'John.Doe@email.com', 90)\n",
      "(101, 'John', 'John.Doe@email.com', 90)\n",
      "(102, 'John', 'John.Doe@email.com', 90)\n",
      "(103, 'John', 'John.Doe@email.com', 90)\n",
      "(104, 'John', 'John.Doe@email.com', 90)\n",
      "(105, 'John', 'John.Doe@email.com', 90)\n",
      "(106, 'John', 'John.Doe@email.com', 90)\n"
     ]
    }
   ],
   "source": [
    "sql_script = \"update student set student_id = 107 where student_id = 100\"\n",
    "cursor.execute(sql_script)\n",
    "db.commit()\n",
    "for i in cursor.execute(\"select * from student\"):\n",
    "    print(i)"
   ]
  },
  {
   "cell_type": "code",
   "execution_count": 43,
   "metadata": {},
   "outputs": [],
   "source": [
    "db.close()"
   ]
  },
  {
   "attachments": {},
   "cell_type": "markdown",
   "metadata": {},
   "source": [
    "### Map"
   ]
  },
  {
   "cell_type": "code",
   "execution_count": 44,
   "metadata": {},
   "outputs": [
    {
     "name": "stdout",
     "output_type": "stream",
     "text": [
      "[6, 7, 8, 9, 10]\n"
     ]
    }
   ],
   "source": [
    "l = [1,2,3,4,5]\n",
    "\n",
    "l1 = []\n",
    "for i in l:\n",
    "    l1.append(i+5)\n",
    "\n",
    "print(l1)"
   ]
  },
  {
   "cell_type": "code",
   "execution_count": 45,
   "metadata": {},
   "outputs": [
    {
     "data": {
      "text/plain": [
       "[6, 7, 8, 9, 10]"
      ]
     },
     "execution_count": 45,
     "metadata": {},
     "output_type": "execute_result"
    }
   ],
   "source": [
    "[i+5 for i in l]"
   ]
  },
  {
   "cell_type": "code",
   "execution_count": 46,
   "metadata": {},
   "outputs": [],
   "source": [
    "def addfive(a):\n",
    "    return a+5"
   ]
  },
  {
   "cell_type": "code",
   "execution_count": 47,
   "metadata": {},
   "outputs": [
    {
     "data": {
      "text/plain": [
       "<map at 0x7ff6b0b09b50>"
      ]
     },
     "execution_count": 47,
     "metadata": {},
     "output_type": "execute_result"
    }
   ],
   "source": [
    "map(addfive, l)"
   ]
  },
  {
   "cell_type": "code",
   "execution_count": 48,
   "metadata": {},
   "outputs": [
    {
     "data": {
      "text/plain": [
       "[6, 7, 8, 9, 10]"
      ]
     },
     "execution_count": 48,
     "metadata": {},
     "output_type": "execute_result"
    }
   ],
   "source": [
    "list(map(addfive, l))"
   ]
  },
  {
   "cell_type": "code",
   "execution_count": 49,
   "metadata": {},
   "outputs": [
    {
     "data": {
      "text/plain": [
       "[690, 1035, 1380, 1725, 2070]"
      ]
     },
     "execution_count": 49,
     "metadata": {},
     "output_type": "execute_result"
    }
   ],
   "source": [
    "l = [1,2,3,4,5]\n",
    "\n",
    "def randfunc(a):\n",
    "    return a*345 + 345\n",
    "\n",
    "list(map(randfunc, l))"
   ]
  },
  {
   "cell_type": "code",
   "execution_count": 50,
   "metadata": {},
   "outputs": [
    {
     "data": {
      "text/plain": [
       "[234, 132, 314, 443, 123]"
      ]
     },
     "execution_count": 50,
     "metadata": {},
     "output_type": "execute_result"
    }
   ],
   "source": [
    "l = ['234','132','314','443','123']\n",
    "\n",
    "def to_int(a):\n",
    "    if type(a) == str:\n",
    "        return int(a)\n",
    "\n",
    "list(map(to_int, l))"
   ]
  },
  {
   "cell_type": "code",
   "execution_count": 51,
   "metadata": {},
   "outputs": [
    {
     "data": {
      "text/plain": [
       "[234, 132, 314, 443, 123]"
      ]
     },
     "execution_count": 51,
     "metadata": {},
     "output_type": "execute_result"
    }
   ],
   "source": [
    "list(map(lambda x: int(x), l))"
   ]
  },
  {
   "cell_type": "code",
   "execution_count": 52,
   "metadata": {},
   "outputs": [
    {
     "data": {
      "text/plain": [
       "[239, 137, 319, 448, 128]"
      ]
     },
     "execution_count": 52,
     "metadata": {},
     "output_type": "execute_result"
    }
   ],
   "source": [
    "list(map(lambda x: int(x)+5, l))"
   ]
  },
  {
   "attachments": {},
   "cell_type": "markdown",
   "metadata": {},
   "source": [
    "### Filter"
   ]
  },
  {
   "cell_type": "code",
   "execution_count": 53,
   "metadata": {},
   "outputs": [
    {
     "data": {
      "text/plain": [
       "[2, 4]"
      ]
     },
     "execution_count": 53,
     "metadata": {},
     "output_type": "execute_result"
    }
   ],
   "source": [
    "l = [1,2,3,4,5]\n",
    "\n",
    "[i for i in l if i%2==0]"
   ]
  },
  {
   "cell_type": "code",
   "execution_count": 54,
   "metadata": {},
   "outputs": [
    {
     "data": {
      "text/plain": [
       "[2, 4]"
      ]
     },
     "execution_count": 54,
     "metadata": {},
     "output_type": "execute_result"
    }
   ],
   "source": [
    "l = [1,2,3,4,5]\n",
    "\n",
    "def even(x):\n",
    "    if x%2==0:\n",
    "        return x\n",
    "\n",
    "list(filter(even,l))"
   ]
  },
  {
   "cell_type": "code",
   "execution_count": 55,
   "metadata": {},
   "outputs": [
    {
     "data": {
      "text/plain": [
       "[2, 4]"
      ]
     },
     "execution_count": 55,
     "metadata": {},
     "output_type": "execute_result"
    }
   ],
   "source": [
    "list(filter(lambda x: x%2==0, l))"
   ]
  },
  {
   "attachments": {},
   "cell_type": "markdown",
   "metadata": {},
   "source": [
    "### Reduce"
   ]
  },
  {
   "cell_type": "code",
   "execution_count": 56,
   "metadata": {},
   "outputs": [
    {
     "name": "stdout",
     "output_type": "stream",
     "text": [
      "36\n"
     ]
    }
   ],
   "source": [
    "l = [1,2,3,4,5,6,7,8]\n",
    "x = 0\n",
    "for i in l:\n",
    "    x+=i\n",
    "print(x)"
   ]
  },
  {
   "cell_type": "code",
   "execution_count": 57,
   "metadata": {},
   "outputs": [
    {
     "data": {
      "text/plain": [
       "36"
      ]
     },
     "execution_count": 57,
     "metadata": {},
     "output_type": "execute_result"
    }
   ],
   "source": [
    "from functools import reduce\n",
    "\n",
    "def add_num(a,b):\n",
    "    return a+b\n",
    "\n",
    "l = [1,2,3,4,5,6,7,8]\n",
    "reduce(add_num,l)"
   ]
  },
  {
   "cell_type": "code",
   "execution_count": 58,
   "metadata": {},
   "outputs": [
    {
     "data": {
      "text/plain": [
       "'abcdefghi'"
      ]
     },
     "execution_count": 58,
     "metadata": {},
     "output_type": "execute_result"
    }
   ],
   "source": [
    "def add_num(a,b):\n",
    "    return a+b\n",
    "\n",
    "l = ['abc','def','ghi']\n",
    "reduce(add_num,l)"
   ]
  },
  {
   "cell_type": "code",
   "execution_count": 59,
   "metadata": {},
   "outputs": [
    {
     "data": {
      "text/plain": [
       "1"
      ]
     },
     "execution_count": 59,
     "metadata": {},
     "output_type": "execute_result"
    }
   ],
   "source": [
    "def add_num(a,b):\n",
    "    return a+b\n",
    "\n",
    "l = [1]\n",
    "reduce(add_num,l)"
   ]
  },
  {
   "cell_type": "code",
   "execution_count": 60,
   "metadata": {},
   "outputs": [
    {
     "data": {
      "text/plain": [
       "36"
      ]
     },
     "execution_count": 60,
     "metadata": {},
     "output_type": "execute_result"
    }
   ],
   "source": [
    "l = [1,2,3,4,5,6,7,8]\n",
    "reduce(lambda x,y: x+y,l)"
   ]
  },
  {
   "attachments": {},
   "cell_type": "markdown",
   "metadata": {},
   "source": [
    "### Zip"
   ]
  },
  {
   "cell_type": "code",
   "execution_count": 61,
   "metadata": {},
   "outputs": [
    {
     "data": {
      "text/plain": [
       "[(1, 6), (2, 7), (3, 8), (4, 9), (5, 10)]"
      ]
     },
     "execution_count": 61,
     "metadata": {},
     "output_type": "execute_result"
    }
   ],
   "source": [
    "l = [1,2,3,4,5]\n",
    "al = [6,7,8,9,10]\n",
    "list(zip(l,al))"
   ]
  },
  {
   "cell_type": "code",
   "execution_count": 62,
   "metadata": {},
   "outputs": [
    {
     "data": {
      "text/plain": [
       "[(1, 6, 'a'), (2, 7, 'b'), (3, 8, 'c'), (4, 9, 'd'), (5, 10, 'e')]"
      ]
     },
     "execution_count": 62,
     "metadata": {},
     "output_type": "execute_result"
    }
   ],
   "source": [
    "l = [1,2,3,4,5]\n",
    "al = [6,7,8,9,10]\n",
    "alph = ['a','b','c','d','e']\n",
    "list(zip(l,al,alph))"
   ]
  },
  {
   "cell_type": "code",
   "execution_count": 63,
   "metadata": {},
   "outputs": [
    {
     "data": {
      "text/plain": [
       "[(1, 6, 'a'), (2, 7, 'b'), (3, 8, 'c')]"
      ]
     },
     "execution_count": 63,
     "metadata": {},
     "output_type": "execute_result"
    }
   ],
   "source": [
    "l = [1,2,3]\n",
    "al = [6,7,8,9,10]\n",
    "alph = ['a','b','c','d','e']\n",
    "list(zip(l,al,alph))"
   ]
  },
  {
   "cell_type": "code",
   "execution_count": 64,
   "metadata": {},
   "outputs": [
    {
     "data": {
      "text/plain": [
       "[(1, 6, 'a'), (2, 7, 'b')]"
      ]
     },
     "execution_count": 64,
     "metadata": {},
     "output_type": "execute_result"
    }
   ],
   "source": [
    "l = [1,2,3,4,5]\n",
    "al = [6,7,8,9,10]\n",
    "alph = ['a','b']\n",
    "list(zip(l,al,alph))"
   ]
  }
 ],
 "metadata": {
  "kernelspec": {
   "display_name": "Python 3.8.10 ('base')",
   "language": "python",
   "name": "python3"
  },
  "language_info": {
   "codemirror_mode": {
    "name": "ipython",
    "version": 3
   },
   "file_extension": ".py",
   "mimetype": "text/x-python",
   "name": "python",
   "nbconvert_exporter": "python",
   "pygments_lexer": "ipython3",
   "version": "3.8.10"
  },
  "orig_nbformat": 4,
  "vscode": {
   "interpreter": {
    "hash": "598ccc34a6681c0a6b2f14d1445d786ab693ba2956be1f5fb8bd7dda96c5e8f5"
   }
  }
 },
 "nbformat": 4,
 "nbformat_minor": 2
}
